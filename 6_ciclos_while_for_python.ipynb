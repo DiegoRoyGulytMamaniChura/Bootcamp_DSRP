{
  "nbformat": 4,
  "nbformat_minor": 0,
  "metadata": {
    "colab": {
      "provenance": [],
      "authorship_tag": "ABX9TyOuCoVAMndCZ4F5j/EotTRx",
      "include_colab_link": true
    },
    "kernelspec": {
      "name": "python3",
      "display_name": "Python 3"
    },
    "language_info": {
      "name": "python"
    }
  },
  "cells": [
    {
      "cell_type": "markdown",
      "metadata": {
        "id": "view-in-github",
        "colab_type": "text"
      },
      "source": [
        "<a href=\"https://colab.research.google.com/github/DiegoRoyGulytMamaniChura/Bootcamp_DSRP/blob/main/6_ciclos_while_for_python.ipynb\" target=\"_parent\"><img src=\"https://colab.research.google.com/assets/colab-badge.svg\" alt=\"Open In Colab\"/></a>"
      ]
    },
    {
      "cell_type": "markdown",
      "source": [
        "# CICLOS\n",
        "\n",
        "\n",
        "*   En esta parte, vamos a aprender acerca de los CICLOS, es una forma de ejecutar un codigo repetitivamente, cierto numero de veces hasta que alguna condicional se cumpla o mejor dicho le demos una instrucción al programa para que pare.\n",
        "\n",
        "\n"
      ],
      "metadata": {
        "id": "-9ssEQSqPmGz"
      }
    },
    {
      "cell_type": "markdown",
      "source": [
        "## CICLO WHILE (MIENTRAS)\n",
        "\n",
        "*   El bucle while repite un bloque de código mientras se cumpla una condición dada.\n",
        "\n",
        "*   La estructura básica es: while condicion:\n",
        "\n"
      ],
      "metadata": {
        "id": "xZRCvSGZDHbW"
      }
    },
    {
      "cell_type": "code",
      "execution_count": null,
      "metadata": {
        "id": "NmxaydPOBr7C"
      },
      "outputs": [],
      "source": [
        " #WHILE: Asi se lee: Mientras esta condición sea True,\n",
        " #                   el bloque que este dentro del WHILE se va a ejecutar\n",
        "\n",
        "\n",
        "#WHILE CONDICION:\n",
        "\"\"\"\n",
        "while True:\n",
        "  print('se ejecuto')\n",
        "\"\"\"\n"
      ]
    },
    {
      "cell_type": "code",
      "source": [
        "\"\"\"\n",
        "Ejemplo1:\n",
        "Este ciclo while incrementa el valor de contador desde 0 hasta 10\n",
        "e imprime cada valor. Cuando contador es igual a 10,\n",
        "Si la condición contador < 10 ya no se cumple, y el ciclo se detiene.\n",
        "\"\"\"\n",
        "contador = 0 #primero definimos la variable 'contador'\n",
        "\n",
        "while contador <5:\n",
        "  contador = contador + 1 #hay que usar bien la identación\n",
        "  print(contador)\n"
      ],
      "metadata": {
        "id": "r8N_tacXDJjr",
        "colab": {
          "base_uri": "https://localhost:8080/"
        },
        "outputId": "4f87d4ed-0624-498e-a49a-4b1b7f0b00db"
      },
      "execution_count": null,
      "outputs": [
        {
          "output_type": "stream",
          "name": "stdout",
          "text": [
            "1\n",
            "2\n",
            "3\n",
            "4\n",
            "5\n"
          ]
        }
      ]
    },
    {
      "cell_type": "code",
      "source": [
        "# Ejercicio para Practicar\n",
        "\n",
        "# Enunciado:\n",
        "\"\"\"\n",
        "Tienes que crear un programa que realice las siguientes tareas utilizando un ciclo 'while':\n",
        "\n",
        "1. Inicializa una variable 'suma' con el valor de 0.\n",
        "2. Utiliza un contador que comienza en 1.\n",
        "3. Mientras el contador sea menor o igual a 10, suma su valor a la variable 'suma'.\n",
        "4. Imprime el valor de la variable 'suma' cada vez que se actualiza.\n",
        "5. Cuando el contador llegue a 10, detén el ciclo e imprime el valor final de 'suma'.\n",
        "\n",
        "El objetivo es encontrar la suma de todos los números desde 1 hasta 10 utilizando un ciclo 'while'.\n",
        "\"\"\"\n"
      ],
      "metadata": {
        "id": "KIzF2FBBzDgA"
      },
      "execution_count": null,
      "outputs": []
    },
    {
      "cell_type": "code",
      "source": [
        "#Sol 1:\n",
        "suma = 0\n",
        "contador=1\n",
        "while contador <=10:\n",
        "  suma=suma+contador\n",
        "  contador +=1\n",
        "  print(suma)\n"
      ],
      "metadata": {
        "id": "lC7KRxtO59Xg",
        "colab": {
          "base_uri": "https://localhost:8080/"
        },
        "outputId": "5b97502d-eab1-49fc-a1f5-a2f7f4f0a737"
      },
      "execution_count": null,
      "outputs": [
        {
          "output_type": "stream",
          "name": "stdout",
          "text": [
            "1\n",
            "3\n",
            "6\n",
            "10\n",
            "15\n",
            "21\n",
            "28\n",
            "36\n",
            "45\n",
            "55\n"
          ]
        }
      ]
    },
    {
      "cell_type": "code",
      "source": [
        "suma = 0\n",
        "contador = 1\n",
        "while contador <= 10:\n",
        "  suma = contador + suma\n",
        "  contador +=1\n",
        "\n",
        "  print(\"Valor final de la suma:\", suma)"
      ],
      "metadata": {
        "colab": {
          "base_uri": "https://localhost:8080/"
        },
        "id": "QJ0RD6HZjSVO",
        "outputId": "db760346-c920-452e-de48-47b7886fcdf6"
      },
      "execution_count": null,
      "outputs": [
        {
          "output_type": "stream",
          "name": "stdout",
          "text": [
            "Valor final de la suma: 1\n",
            "Valor final de la suma: 3\n",
            "Valor final de la suma: 6\n",
            "Valor final de la suma: 10\n",
            "Valor final de la suma: 15\n",
            "Valor final de la suma: 21\n",
            "Valor final de la suma: 28\n",
            "Valor final de la suma: 36\n",
            "Valor final de la suma: 45\n",
            "Valor final de la suma: 55\n"
          ]
        }
      ]
    },
    {
      "cell_type": "code",
      "source": [
        "\"\"\"\n",
        "Ejemplo 2 Break:\n",
        "Este ciclo while hace lo mismo que el anterior pero tiene una instrucción break.\n",
        "El break sale inmediatamente del ciclo while cuando contador es igual a 5.\n",
        "\"\"\"\n",
        "contador = 0\n",
        "\n",
        "while contador <10:\n",
        "  contador = contador + 1\n",
        "  if contador == 8: #Aqui le hacemos al combinacion del IF (profesor uso doble =)\n",
        "    break\n",
        "  print(contador)"
      ],
      "metadata": {
        "id": "QplYePezEfeG",
        "colab": {
          "base_uri": "https://localhost:8080/"
        },
        "outputId": "04f0e225-de42-4105-e8cb-5f7b968584ad"
      },
      "execution_count": null,
      "outputs": [
        {
          "output_type": "stream",
          "name": "stdout",
          "text": [
            "1\n",
            "2\n",
            "3\n",
            "4\n",
            "5\n",
            "6\n",
            "7\n"
          ]
        }
      ]
    },
    {
      "cell_type": "code",
      "source": [
        "#Ejercicio para Practicar\n",
        "\n",
        "# Enunciado:\n",
        "\"\"\"\n",
        "Crea un programa que:\n",
        "\n",
        "1. Inicialice una variable 'suma' con valor 0.\n",
        "2. Use un contador que comience en 1.\n",
        "3. Utilice un ciclo 'while' para sumar los números desde 1 en adelante.\n",
        "4. Utilice una instrucción 'break' para salir del ciclo cuando la 'suma' alcance o supere 50.\n",
        "5. Imprima el último número que se sumó y el valor final de la variable 'suma'.\n",
        "\"\"\""
      ],
      "metadata": {
        "id": "7Lmlyme20NWU"
      },
      "execution_count": null,
      "outputs": []
    },
    {
      "cell_type": "code",
      "source": [
        "#Sol 1:\n",
        "suma = 0\n",
        "contador = 1\n",
        "\n",
        "while True:\n",
        "  suma += contador\n",
        "  if suma >=50:\n",
        "    break\n",
        "  contador += 1\n",
        "\n",
        "print(f\"El ultimo numero que sumo es: {contador}\")\n",
        "print(f\"La suma final: {suma}\")\n"
      ],
      "metadata": {
        "id": "s3vZAoV45670",
        "colab": {
          "base_uri": "https://localhost:8080/"
        },
        "outputId": "67b8dc0f-91e6-479d-f721-6840794820a8"
      },
      "execution_count": null,
      "outputs": [
        {
          "output_type": "stream",
          "name": "stdout",
          "text": [
            "El ultimo numero que sumo es: 10\n",
            "La suma final: 55\n"
          ]
        }
      ]
    },
    {
      "cell_type": "code",
      "source": [
        "suma = 0\n",
        "contador=1\n",
        "while True :\n",
        "  suma=suma+contador\n",
        "  contador +=1\n",
        "\n",
        "  if suma >= 50:\n",
        "    print(suma)\n",
        "    break\n",
        "\n",
        "print(f\"el ultimo número que sumo es {contador}\")\n",
        "print(f\"La suma final: {suma}\")"
      ],
      "metadata": {
        "colab": {
          "base_uri": "https://localhost:8080/"
        },
        "id": "ke99baa_m1jK",
        "outputId": "db1eb67c-81c4-4d6b-9b77-d49ec9d26837"
      },
      "execution_count": null,
      "outputs": [
        {
          "output_type": "stream",
          "name": "stdout",
          "text": [
            "55\n",
            "el ultimo número que sumo es 11\n",
            "La suma final: 55\n"
          ]
        }
      ]
    },
    {
      "cell_type": "markdown",
      "source": [
        "## CICLO FOR\n",
        "\n",
        "Ahora vas a aprender un ciclo que más vas a usar precisamente en programación con Ptyhon y es el ciclo FOR, y este ciclo se usa cuando ya tenemos el numero de elementos dados. En el cual normalmente tenemos una condicional y hasta que eso se cumpla, y cuando cumpla la condición se va a ejecutar.\n",
        "\n",
        "\n",
        "\n",
        "*   El bucle for es útil cuando quieres iterar sobre una colección de elementos (como una lista, una tupla o un diccionario) o cuando conoces de antemano el número de veces que quieres repetir un bloque de código.\n",
        "\n",
        "*   'for ELEMENTO_ITERADOR in RANGE():'\n"
      ],
      "metadata": {
        "id": "UVFqLfFKJrOm"
      }
    },
    {
      "cell_type": "code",
      "source": [
        "#Ejemplo:\n",
        "\n",
        "for elemento in range(1,10):\n",
        "  print(elemento)"
      ],
      "metadata": {
        "id": "jAwKclaVJ7JX",
        "colab": {
          "base_uri": "https://localhost:8080/"
        },
        "outputId": "9a6ece95-81ef-4052-a449-f6528aa33ec5"
      },
      "execution_count": null,
      "outputs": [
        {
          "output_type": "stream",
          "name": "stdout",
          "text": [
            "1\n",
            "2\n",
            "3\n",
            "4\n",
            "5\n",
            "6\n",
            "7\n",
            "8\n",
            "9\n"
          ]
        }
      ]
    },
    {
      "cell_type": "markdown",
      "source": [
        "### Explicación de variale ELEMENTO\n",
        "\n",
        "*   La variable elemento suele llamarse en referencia a lo que se está\n",
        "recorriendo y es donde se almacena dinamicamente elemento por elemento.\n",
        "\n",
        "\n"
      ],
      "metadata": {
        "id": "ioEOVkmRaVE1"
      }
    },
    {
      "cell_type": "code",
      "source": [
        "#Ahora vamos a hacer el ejemplo corriendo una lista:\n",
        "\n",
        "mi_lista=[23,45,67,89,43]\n",
        "\n",
        "for elemento in mi_lista:\n",
        "  print(elemento)"
      ],
      "metadata": {
        "id": "i-6m4jKCKIdv",
        "colab": {
          "base_uri": "https://localhost:8080/"
        },
        "outputId": "4d6c9214-d3f9-44ad-8f2e-f9d9003f4e84"
      },
      "execution_count": null,
      "outputs": [
        {
          "output_type": "stream",
          "name": "stdout",
          "text": [
            "23\n",
            "45\n",
            "67\n",
            "89\n",
            "43\n"
          ]
        }
      ]
    },
    {
      "cell_type": "code",
      "source": [
        "#Ahora vamos a hacer el ejemplo corriendo una tupla:\n",
        "tupla = ('nico','juli','santi')\n",
        "\n",
        "for elemento in tupla:\n",
        "  print(elemento)"
      ],
      "metadata": {
        "id": "vL0_G1zvUvD9",
        "colab": {
          "base_uri": "https://localhost:8080/"
        },
        "outputId": "9e5202ae-5756-437a-df3f-596f7252ce07"
      },
      "execution_count": null,
      "outputs": [
        {
          "output_type": "stream",
          "name": "stdout",
          "text": [
            "nico\n",
            "juli\n",
            "santi\n"
          ]
        }
      ]
    },
    {
      "cell_type": "code",
      "source": [
        "#Ahora vamos a hacer el ejemplo corriendo un diccionario:\n",
        "\n",
        "producto={\n",
        "    'nombre':'camisa',\n",
        "    'precio':100,\n",
        "    'stock':89\n",
        "}\n",
        "\n",
        "\n",
        "#Forma de imprimir 1\n",
        "print(\"Forma 1\")\n",
        "for elemento in producto:\n",
        "  print(elemento) #aqui estamos viendo que nos bota solo las llaves"
      ],
      "metadata": {
        "id": "jMp_C8m4VB7U",
        "colab": {
          "base_uri": "https://localhost:8080/"
        },
        "outputId": "2fe0a072-c7fa-4b57-bea7-d362615b06ab"
      },
      "execution_count": null,
      "outputs": [
        {
          "output_type": "stream",
          "name": "stdout",
          "text": [
            "Forma 1\n",
            "nombre\n",
            "precio\n",
            "stock\n"
          ]
        }
      ]
    },
    {
      "cell_type": "code",
      "source": [
        "#Forma de imprimir 2\n",
        "producto={\n",
        "    'nombre':'camisa',\n",
        "    'precio':100,\n",
        "    'stock':89\n",
        "}\n",
        "\n",
        "print(\"\\nForma 2\")\n",
        "for elemento in producto:\n",
        "  print(producto[elemento]) #aqui estamos viendo que nos bota solo las llaves"
      ],
      "metadata": {
        "id": "S4Yw7LTb4SvO",
        "colab": {
          "base_uri": "https://localhost:8080/"
        },
        "outputId": "3eabbcfb-b1b9-4481-b119-69ab585434e0"
      },
      "execution_count": null,
      "outputs": [
        {
          "output_type": "stream",
          "name": "stdout",
          "text": [
            "\n",
            "Forma 2\n",
            "camisa\n",
            "100\n",
            "89\n"
          ]
        }
      ]
    },
    {
      "cell_type": "code",
      "source": [
        "#Forma de imprimir 3\n",
        "producto={\n",
        "    'nombre':'camisa',\n",
        "    'precio':100,\n",
        "    'stock':89\n",
        "}\n",
        "\n",
        "print(\"Forma 3\")\n",
        "for elemento in producto:\n",
        "  print(elemento,\" -> \",producto[elemento]) #aqui vemos que nos bota todo"
      ],
      "metadata": {
        "id": "n21YitpK4Sdk",
        "colab": {
          "base_uri": "https://localhost:8080/"
        },
        "outputId": "0ac5a104-a0d6-440a-d8b6-eb28ec641825"
      },
      "execution_count": null,
      "outputs": [
        {
          "output_type": "stream",
          "name": "stdout",
          "text": [
            "\n",
            "Forma 3\n",
            "nombre  ->  camisa\n",
            "precio  ->  100\n",
            "stock  ->  89\n"
          ]
        }
      ]
    },
    {
      "cell_type": "code",
      "source": [
        "print(\"Enter\")\n",
        "print(\"Enter1\")\n",
        "print(\"Enter2\")"
      ],
      "metadata": {
        "colab": {
          "base_uri": "https://localhost:8080/"
        },
        "id": "Jib0Br_-o9sq",
        "outputId": "f7816ca3-6f79-4215-df56-d30c8a9d9dfb"
      },
      "execution_count": null,
      "outputs": [
        {
          "output_type": "stream",
          "name": "stdout",
          "text": [
            "Enter\n",
            "Enter1\n",
            "Enter2\n"
          ]
        }
      ]
    },
    {
      "cell_type": "code",
      "source": [
        "print(\"Enter\")\n",
        "print(\"\\nEnter1\")\n",
        "print(\"\\nEnter2\")"
      ],
      "metadata": {
        "colab": {
          "base_uri": "https://localhost:8080/"
        },
        "id": "vs1ry8PjpQCp",
        "outputId": "b4d826aa-bc97-4cb8-aca4-57861d9bc5a6"
      },
      "execution_count": null,
      "outputs": [
        {
          "output_type": "stream",
          "name": "stdout",
          "text": [
            "Enter\n",
            "\n",
            "Enter1\n",
            "\n",
            "Enter2\n"
          ]
        }
      ]
    },
    {
      "cell_type": "code",
      "source": [
        "#Ejercicio para Practicar\n",
        "\n",
        "# Enunciado:\n",
        "\"\"\"\n",
        "1. **Listas:** Crea una lista que contenga tus 3 colores favoritos.\n",
        "   - Utiliza un ciclo `for` para imprimir cada color en la lista.\n",
        "\n",
        "2. **Tuplas:** Crea una tupla que contenga 3 nombres de tus amigos.\n",
        "   - Utiliza un ciclo `for` para imprimir cada nombre en la tupla.\n",
        "\n",
        "3. **Diccionarios:** Crea un diccionario que contenga información sobre tu libro favorito.\n",
        "   - Atributos a incluir: 'titulo', 'autor', 'año'.\n",
        "   - Utiliza un ciclo `for` para imprimir cada clave y valor en el diccionario.\n",
        "\"\"\""
      ],
      "metadata": {
        "id": "X_sGvajm3fnn"
      },
      "execution_count": null,
      "outputs": []
    },
    {
      "cell_type": "code",
      "source": [
        "#Sol 1:\n",
        "colores = [\"rojo\",\"azul\",\"verde\"]\n",
        "print(type(colores))\n",
        "\n",
        "for elemento in colores:\n",
        "  print(elemento)\n"
      ],
      "metadata": {
        "id": "qxWdQejh4OwX",
        "colab": {
          "base_uri": "https://localhost:8080/"
        },
        "outputId": "a9465113-919a-4c9e-d888-f4879daf2b41"
      },
      "execution_count": null,
      "outputs": [
        {
          "output_type": "stream",
          "name": "stdout",
          "text": [
            "<class 'list'>\n",
            "rojo\n",
            "azul\n",
            "verde\n"
          ]
        }
      ]
    },
    {
      "cell_type": "code",
      "source": [
        "#Sol 2:\n",
        "amigos =(\"Marcelo\",\"Ivan\",\"Xioamara\")\n",
        "\n",
        "for elemento in amigos:\n",
        "  print(elemento)\n"
      ],
      "metadata": {
        "id": "iDFjlGpm4ELs",
        "colab": {
          "base_uri": "https://localhost:8080/"
        },
        "outputId": "cb69ae3b-7b93-4eb9-cfad-e0353d20d531"
      },
      "execution_count": null,
      "outputs": [
        {
          "output_type": "stream",
          "name": "stdout",
          "text": [
            "Marcelo\n",
            "Ivan\n",
            "Xioamara\n"
          ]
        }
      ]
    },
    {
      "cell_type": "code",
      "source": [
        "#Sol 3:\n",
        "libro={\n",
        "   \"titulo\":\"1984\",\n",
        "   \"autor\":\"Orwell\",\n",
        "   \"año\": 1949\n",
        "}\n",
        "\n",
        "for elemento in libro:\n",
        "  print(elemento,\" -> \",libro[elemento]) #aqui vemos que nos bota todo"
      ],
      "metadata": {
        "id": "_rhCBq9n4FNz",
        "colab": {
          "base_uri": "https://localhost:8080/"
        },
        "outputId": "7cf20789-8c05-4f7f-eab7-bb5a01725c4f"
      },
      "execution_count": null,
      "outputs": [
        {
          "output_type": "stream",
          "name": "stdout",
          "text": [
            "titulo  ->  1984\n",
            "autor  ->  Orwell\n",
            "año  ->  1949\n"
          ]
        }
      ]
    },
    {
      "cell_type": "code",
      "source": [
        "color=[\"Negro\",\"Gris\",\"Azul\"]\n",
        "clr=[print(c) for c in color]\n",
        "\n",
        "tupl=(\"Angela\",\"María\",\"Gilmour\")\n",
        "name=[print(e) for e in tupl]\n",
        "\n",
        "dic={\n",
        "    'titulo': 'La Divina comedia',\n",
        "    'año': 1304,\n",
        "    'autor': 'Dante Alighieri'\n",
        "}\n",
        "for llave, valor in dic.items():\n",
        "  print(f'|-{llave}:\\t{valor}')"
      ],
      "metadata": {
        "colab": {
          "base_uri": "https://localhost:8080/"
        },
        "id": "raMQ_g7Qrytm",
        "outputId": "ff57b1f5-9ba4-4eeb-8d47-4708a983a5b9"
      },
      "execution_count": null,
      "outputs": [
        {
          "output_type": "stream",
          "name": "stdout",
          "text": [
            "Negro\n",
            "Gris\n",
            "Azul\n",
            "Angela\n",
            "María\n",
            "Gilmour\n",
            "|-titulo:\tLa Divina comedia\n",
            "|-año:\t1304\n",
            "|-autor:\tDante Alighieri\n"
          ]
        }
      ]
    },
    {
      "cell_type": "code",
      "source": [
        "#Sol 1:\n",
        "colores = [\"azul\", \"negro\", \"rojo\"]\n",
        "for elemento in colores:\n",
        "  print(elemento)\n",
        "\n",
        "#Sol 2:\n",
        "amigos = (\"Daniel\", \"Juan\", \"Liz\")\n",
        "for elemento in amigos:\n",
        "  print(elemento)\n",
        "\n",
        "#Sol 3:\n",
        "libro={\n",
        "    'titulo' : 'Como trabaja Google',\n",
        "    'autor'  : 'Eric Schmidt y Jonathan Rosenberg',\n",
        "    'año'    : 2015\n",
        "}\n",
        "for elemento in libro:\n",
        "  print(elemento,\" -> \", libro[elemento])#Sol 1:\n",
        "\n"
      ],
      "metadata": {
        "colab": {
          "base_uri": "https://localhost:8080/"
        },
        "id": "Zc85vpm-sD9j",
        "outputId": "f13cdee3-4a03-45d3-f635-02fd2fd758bd"
      },
      "execution_count": null,
      "outputs": [
        {
          "output_type": "stream",
          "name": "stdout",
          "text": [
            "azul\n",
            "negro\n",
            "rojo\n",
            "Daniel\n",
            "Juan\n",
            "Liz\n",
            "titulo  ->  Como trabaja Google\n",
            "autor  ->  Eric Schmidt y Jonathan Rosenberg\n",
            "año  ->  2015\n"
          ]
        }
      ]
    },
    {
      "cell_type": "code",
      "source": [
        "colores_favoritos = ['azul', 'verde', 'rojo']\n",
        "\n",
        "print(\"Mis colores favoritos son:\")\n",
        "for color in colores_favoritos:\n",
        "    print(\"\\n\",color)"
      ],
      "metadata": {
        "colab": {
          "base_uri": "https://localhost:8080/"
        },
        "id": "WGQZSVScsSAc",
        "outputId": "f86b7f9f-abe6-46f6-8fe9-187a8152a20e"
      },
      "execution_count": null,
      "outputs": [
        {
          "output_type": "stream",
          "name": "stdout",
          "text": [
            "Mis colores favoritos son:\n",
            "\n",
            " azul\n",
            "\n",
            " verde\n",
            "\n",
            " rojo\n"
          ]
        }
      ]
    },
    {
      "cell_type": "code",
      "source": [
        "colores_favoritos = ['amarillo', 'verde', 'negro']\n",
        "\n",
        "for color in colores_favoritos:\n",
        "    print(color)\n",
        "\n",
        "print(\"\\n enter\")\n",
        "\n",
        "nombres_amigos = ('Cecilia', 'Pamela', 'Renato')\n",
        "for nombre in nombres_amigos:\n",
        "    print(nombre)\n",
        "\n",
        " #Sol 3:\n",
        "print(\"\\n enter\")\n",
        "\n",
        "libro_favorito = {\n",
        "    'titulo': 'El principito',\n",
        "    'autor': 'Antoine de Saint-Exupéry',\n",
        "    'año': 1943\n",
        "}\n",
        "for clave, valor in libro_favorito.items():\n",
        "    print(f'{clave}: {valor}')"
      ],
      "metadata": {
        "colab": {
          "base_uri": "https://localhost:8080/"
        },
        "id": "e4g1ZZuDsivG",
        "outputId": "3b932d99-ed42-4029-dd9f-9104a0bcff2f"
      },
      "execution_count": null,
      "outputs": [
        {
          "output_type": "stream",
          "name": "stdout",
          "text": [
            "amarillo\n",
            "verde\n",
            "negro\n",
            "\n",
            " enter\n",
            "Cecilia\n",
            "Pamela\n",
            "Renato\n",
            "\n",
            " enter\n",
            "titulo: El principito\n",
            "autor: Antoine de Saint-Exupéry\n",
            "año: 1943\n"
          ]
        }
      ]
    },
    {
      "cell_type": "code",
      "source": [
        "libro = {'titulo':'vamos a calentar el sol', 'autor':'Jose Mauro de Vasconcelos', 'año':1974}\n",
        "\n",
        "for elemento in libro:\n",
        "   print(elemento,\" : \",libro[elemento])"
      ],
      "metadata": {
        "colab": {
          "base_uri": "https://localhost:8080/"
        },
        "id": "Vg9Urad2s7_G",
        "outputId": "880b0b08-f938-4f47-da3c-a3c9f0a3d71d"
      },
      "execution_count": null,
      "outputs": [
        {
          "output_type": "stream",
          "name": "stdout",
          "text": [
            "titulo  :  vamos a calentar el sol\n",
            "autor  :  Jose Mauro de Vasconcelos\n",
            "año  :  1974\n"
          ]
        }
      ]
    },
    {
      "cell_type": "code",
      "source": [
        "#Sol 3:\n",
        "\n",
        "libros={\n",
        "    'titulo':'Orgullo_prejuicio',\n",
        "    'autor':\"Jane_Austen\",\n",
        "    'año':79\n",
        "}\n",
        "\n",
        "\n",
        "for elemento in libros:\n",
        "  print(elemento,\" -> \",libros[elemento])"
      ],
      "metadata": {
        "colab": {
          "base_uri": "https://localhost:8080/"
        },
        "id": "YgUnR3_PtSaP",
        "outputId": "918a27f7-5cf2-4aab-aa10-e54e81a6c16c"
      },
      "execution_count": null,
      "outputs": [
        {
          "output_type": "stream",
          "name": "stdout",
          "text": [
            "titulo  ->  Orgullo_prejuicio\n",
            "autor  ->  Jane_Austen\n",
            "año  ->  79\n"
          ]
        }
      ]
    }
  ]
}