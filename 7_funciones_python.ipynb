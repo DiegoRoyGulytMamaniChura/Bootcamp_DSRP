{
  "nbformat": 4,
  "nbformat_minor": 0,
  "metadata": {
    "colab": {
      "provenance": [],
      "authorship_tag": "ABX9TyNPGCzDbU6ozbnR9Iavh7Cx",
      "include_colab_link": true
    },
    "kernelspec": {
      "name": "python3",
      "display_name": "Python 3"
    },
    "language_info": {
      "name": "python"
    }
  },
  "cells": [
    {
      "cell_type": "markdown",
      "metadata": {
        "id": "view-in-github",
        "colab_type": "text"
      },
      "source": [
        "<a href=\"https://colab.research.google.com/github/DiegoRoyGulytMamaniChura/Bootcamp_DSRP/blob/main/7_funciones_python.ipynb\" target=\"_parent\"><img src=\"https://colab.research.google.com/assets/colab-badge.svg\" alt=\"Open In Colab\"/></a>"
      ]
    },
    {
      "cell_type": "markdown",
      "source": [
        "# FUNCIONES\n",
        "\n",
        "\n",
        "\n",
        "*   Una función es una forma de agrupar código que realiza una tarea específica en un bloque reutilizable.\n",
        "*   Puedes pensar en una función como una \"máquina\" pequeña: le das ciertas \"materias primas\" (que en términos de programación llamamos argumentos o parámetros), la \"máquina\" hace algo con ellas y luego devuelve un \"producto\" (que llamamos valor de retorno o resultado).\n",
        "\n",
        "\n",
        "\n",
        "\n"
      ],
      "metadata": {
        "id": "LufXkqNA6lPF"
      }
    },
    {
      "cell_type": "code",
      "execution_count": null,
      "metadata": {
        "id": "fDGyQtTRHJOL"
      },
      "outputs": [],
      "source": [
        "def <nombre_funcion>(<parametros>): # Aqui cocolas el nombre de la funcion y los parametros\n",
        "  <cuerpo>                          # Codigo de la funcion\n",
        "  return <expresion>                # Valor del retorno, no todas las funciones retornan algo"
      ]
    },
    {
      "cell_type": "code",
      "source": [
        "#Agregando una condición IF para que no ingresen numeros menores a cero:\n",
        "def area_tri(base, altura):\n",
        "  if base <=0 or altura <=0:\n",
        "    return print(\"los numeros ingresados deben ser mayores que 0\")\n",
        "  area=(base*altura)/2\n",
        "  return print(\"El área del triángulo es  :\",area)\n",
        "\n",
        "area_tri(-10,10)"
      ],
      "metadata": {
        "id": "SrqNmd-pAK7U",
        "colab": {
          "base_uri": "https://localhost:8080/"
        },
        "outputId": "2fda9fde-a6de-4dc9-989b-474b10bab06c"
      },
      "execution_count": null,
      "outputs": [
        {
          "output_type": "stream",
          "name": "stdout",
          "text": [
            "los numeros ingresados deben ser mayores que 0\n"
          ]
        }
      ]
    },
    {
      "cell_type": "code",
      "source": [
        "#Ejemplo Simple:\n",
        "\n",
        "def suma(a, b):\n",
        "  total = a+b\n",
        "  return print(\"resultado de la suma :\",total)\n"
      ],
      "metadata": {
        "id": "iSjqaZVUHVCD"
      },
      "execution_count": null,
      "outputs": []
    },
    {
      "cell_type": "code",
      "source": [
        "suma(3,5)"
      ],
      "metadata": {
        "colab": {
          "base_uri": "https://localhost:8080/"
        },
        "id": "CS8K33SYuqKA",
        "outputId": "26a74727-bacf-40de-fdac-de8b94e7a7c1"
      },
      "execution_count": null,
      "outputs": [
        {
          "output_type": "stream",
          "name": "stdout",
          "text": [
            "resultado de la suma : 8\n"
          ]
        }
      ]
    },
    {
      "cell_type": "code",
      "source": [
        "#Ejemplo Practica:\n",
        "\n",
        "\"\"\"\n",
        "Haga una funcion que calcule el area de un triangulo: a*b/2\n",
        "\"\"\"\n",
        "def area_tri(base, altura):\n",
        "  area = (base*altura)/2\n",
        "  return print(\"El área del triángulo es  :\",area)\n",
        "\n",
        "area_tri(4, 5)\n"
      ],
      "metadata": {
        "colab": {
          "base_uri": "https://localhost:8080/"
        },
        "id": "V0KBgqX36-OC",
        "outputId": "b1b2b03f-d1ae-4d7a-873b-302155d5a982"
      },
      "execution_count": null,
      "outputs": [
        {
          "output_type": "stream",
          "name": "stdout",
          "text": [
            "El área del triángulo es  : 10.0\n"
          ]
        }
      ]
    },
    {
      "cell_type": "code",
      "source": [
        "area_tri(4, -5)"
      ],
      "metadata": {
        "colab": {
          "base_uri": "https://localhost:8080/"
        },
        "id": "S-rL5IwfwC6o",
        "outputId": "176c456d-cfcf-44a5-a3ac-f4fb5f3864be"
      },
      "execution_count": null,
      "outputs": [
        {
          "output_type": "stream",
          "name": "stdout",
          "text": [
            "El área del triángulo es  : 10.0\n"
          ]
        }
      ]
    },
    {
      "cell_type": "code",
      "source": [
        "def AreaDeltriangulo(b, h):\n",
        "  if b>0 and h>0:\n",
        "    area = (b*h)/2\n",
        "    return print(\"resultado de la suma :\",area)\n",
        "  else:\n",
        "    print('valor ingresado incorrecto')\n",
        "\n",
        "AreaDeltriangulo(-3, 5)"
      ],
      "metadata": {
        "colab": {
          "base_uri": "https://localhost:8080/"
        },
        "id": "sUJAMZKwwCyr",
        "outputId": "47550cd2-17db-40cc-ec72-350cc0a94e36"
      },
      "execution_count": null,
      "outputs": [
        {
          "output_type": "stream",
          "name": "stdout",
          "text": [
            "valor ingresado incorrecto\n"
          ]
        }
      ]
    },
    {
      "cell_type": "code",
      "source": [
        "#Agregando una condición IF para que no ingresen numeros menores a cero:\n",
        "\n",
        "def areaT(a,b):\n",
        "  if a <= 0 or b <=0:\n",
        "    return (\"Ingrese valores mayores q 0\")\n",
        "  else:\n",
        "    area = (a*b)/2\n",
        "    return print(f\"El area del trinagulo es: {area}\")\n",
        "\n",
        "areaT(20,5)"
      ],
      "metadata": {
        "colab": {
          "base_uri": "https://localhost:8080/"
        },
        "id": "RoXqcY9hvmrF",
        "outputId": "378c2c4d-1f36-4be5-fa17-d9ebe625b4db"
      },
      "execution_count": null,
      "outputs": [
        {
          "output_type": "stream",
          "name": "stdout",
          "text": [
            "El area del trinagulo es: 50.0\n"
          ]
        }
      ]
    },
    {
      "cell_type": "code",
      "source": [
        "def triangleArea(altura,base):\n",
        "  print((altura*base)/2\n",
        "        if altura >0 and base>0\n",
        "        else 'No puede ingresar numeros negativos' )\n",
        "\n",
        "triangleArea(8,7)"
      ],
      "metadata": {
        "colab": {
          "base_uri": "https://localhost:8080/"
        },
        "id": "ccU_1oR_wSyC",
        "outputId": "e0ddd629-9750-4fc9-e1be-63a7a4da3e33"
      },
      "execution_count": null,
      "outputs": [
        {
          "output_type": "stream",
          "name": "stdout",
          "text": [
            "28.0\n"
          ]
        }
      ]
    },
    {
      "cell_type": "code",
      "source": [
        "\"\"\"\n",
        "Haga una funcion que calcule el area de un triangulo:\n",
        "\"\"\"\n",
        "def area_triangulo(b, h):\n",
        "  a = b*h/2\n",
        "  return print(\"resultado de la suma :\",a)\n",
        "\n",
        "area_triangulo(10,6)"
      ],
      "metadata": {
        "colab": {
          "base_uri": "https://localhost:8080/"
        },
        "id": "p_u8JfUnxFbE",
        "outputId": "4119bb9d-5a04-4901-e918-c9504826102e"
      },
      "execution_count": null,
      "outputs": [
        {
          "output_type": "stream",
          "name": "stdout",
          "text": [
            "resultado de la suma : 30.0\n"
          ]
        }
      ]
    },
    {
      "cell_type": "code",
      "source": [
        "#Ejemplo extra:\n",
        "\n",
        "def nombre_completo(nombre, apellido, inverso=True):\n",
        "  if inverso:\n",
        "    return print(f\"Mi nombre completo es: {nombre} {apellido}\")\n",
        "  else:\n",
        "    return print(f\"Mi nombre completo es: {apellido} {nombre}\")\n",
        "\n",
        "nombre_completo(\"Luis\",\"Peche\", inverso=False)\n",
        "nombre_completo(\"Luis\",\"Peche\", inverso=True)"
      ],
      "metadata": {
        "colab": {
          "base_uri": "https://localhost:8080/"
        },
        "id": "u27DrBRqHsLa",
        "outputId": "d83722f8-b9b3-4609-ab2f-8de807a31586"
      },
      "execution_count": null,
      "outputs": [
        {
          "output_type": "stream",
          "name": "stdout",
          "text": [
            "Mi nombre completo es: Peche Luis\n",
            "Mi nombre completo es: Luis Peche\n"
          ]
        }
      ]
    },
    {
      "cell_type": "code",
      "source": [
        "#Ejemplo de estadisticas basicas\n",
        "\n",
        "def estadisticas_basicas(lista_numeros):\n",
        "    # Calculando suma\n",
        "    suma_total = sum(lista_numeros)\n",
        "\n",
        "    # Calculando promedio\n",
        "    promedio = suma_total / len(lista_numeros)\n",
        "\n",
        "    # Encontrando el valor mínimo\n",
        "    minimo = min(lista_numeros)\n",
        "\n",
        "    # Encontrando el valor máximo\n",
        "    maximo = max(lista_numeros)\n",
        "\n",
        "    # Ordenando la lista en orden ascendente\n",
        "    orden_asc = sorted(lista_numeros)\n",
        "\n",
        "    # Ordenando la lista en orden descendente\n",
        "    orden_desc = list(reversed(orden_asc))\n",
        "\n",
        "    print(f\"Suma total: {suma_total}\")\n",
        "    print(f\"Promedio: {promedio}\")\n",
        "    print(f\"Mínimo: {minimo}\")\n",
        "    print(f\"Máximo: {maximo}\")\n",
        "    print(f\"Orden Ascendente: {orden_asc}\")\n",
        "    print(f\"Orden Descendente: {orden_desc}\")\n",
        "\n",
        "# Testeando la función con una lista de números\n",
        "estadisticas_basicas([23, 45, 67, 12, 34, 89, 21])\n"
      ],
      "metadata": {
        "colab": {
          "base_uri": "https://localhost:8080/"
        },
        "id": "99dbfg9Pw_1N",
        "outputId": "65eb1995-34f8-4c7b-a330-d88cfc2a3f88"
      },
      "execution_count": null,
      "outputs": [
        {
          "output_type": "stream",
          "name": "stdout",
          "text": [
            "Suma total: 291\n",
            "Promedio: 41.57142857142857\n",
            "Mínimo: 12\n",
            "Máximo: 89\n",
            "Orden Ascendente: [12, 21, 23, 34, 45, 67, 89]\n",
            "Orden Descendente: [89, 67, 45, 34, 23, 21, 12]\n"
          ]
        }
      ]
    },
    {
      "cell_type": "code",
      "source": [
        "def cambio_moneda(Monto_soles,TC_SBS):\n",
        "    if Monto_soles > 0 or TC_SBS > 0:\n",
        "        monto_USD = round(Monto_soles /TC_SBS,2)\n",
        "        return print(\"Su monto en DÓLARES AMERICANOS ES: \", monto_USD, \"USD\")"
      ],
      "metadata": {
        "id": "0Rw2DL9Oz3i1"
      },
      "execution_count": null,
      "outputs": []
    },
    {
      "cell_type": "code",
      "source": [
        "Monto_soles = float(input(\"Ingrese Soles: \"))\n",
        "TC_SBS = float(input(\"Ingrese TC: \"))\n",
        "\n",
        "print (cambio_moneda(Monto_soles,TC_SBS))"
      ],
      "metadata": {
        "colab": {
          "base_uri": "https://localhost:8080/"
        },
        "id": "06Fc-deT0Nqm",
        "outputId": "d9aeea36-60dd-44c0-ebcf-6ed544bbe7ca"
      },
      "execution_count": null,
      "outputs": [
        {
          "output_type": "stream",
          "name": "stdout",
          "text": [
            "Ingrese Soles: 1000\n",
            "Ingrese TC: 3.68\n",
            "Su monto en DÓLARES AMERICANOS ES:  271.74 USD\n",
            "None\n"
          ]
        }
      ]
    }
  ]
}