{
  "nbformat": 4,
  "nbformat_minor": 0,
  "metadata": {
    "colab": {
      "provenance": [],
      "authorship_tag": "ABX9TyPOKprRuuOL3gBqKq7AH5zx",
      "include_colab_link": true
    },
    "kernelspec": {
      "name": "python3",
      "display_name": "Python 3"
    },
    "language_info": {
      "name": "python"
    }
  },
  "cells": [
    {
      "cell_type": "markdown",
      "metadata": {
        "id": "view-in-github",
        "colab_type": "text"
      },
      "source": [
        "<a href=\"https://colab.research.google.com/github/DiegoRoyGulytMamaniChura/Bootcamp_DSRP/blob/main/1_Mi_Primer_Codigo_python.ipynb\" target=\"_parent\"><img src=\"https://colab.research.google.com/assets/colab-badge.svg\" alt=\"Open In Colab\"/></a>"
      ]
    },
    {
      "cell_type": "markdown",
      "source": [
        "Mi primera linea de codigo"
      ],
      "metadata": {
        "id": "OsTOLl49Oo9D"
      }
    },
    {
      "cell_type": "code",
      "execution_count": null,
      "metadata": {
        "colab": {
          "base_uri": "https://localhost:8080/"
        },
        "id": "huBwljd_Md_M",
        "outputId": "62ce2f30-140c-4836-bde9-def0ec1122e3"
      },
      "outputs": [
        {
          "output_type": "stream",
          "name": "stdout",
          "text": [
            "Hola Soy Diego\n",
            "prueba\n",
            "Hola, soy aprendiz de python\n"
          ]
        }
      ],
      "source": [
        "print(\"Hola Soy Diego\")\n",
        "print(\"prueba\")\n",
        "print(\"Hola, soy aprendiz de python\")"
      ]
    },
    {
      "cell_type": "markdown",
      "source": [
        "Mi primer error"
      ],
      "metadata": {
        "id": "eAVRAAMwQcsC"
      }
    },
    {
      "cell_type": "code",
      "source": [
        "print(\"5+6\")\n",
        "print(\"3-5\")\n",
        "print(\"3*5\")\n",
        "print(\"5+6\")\n"
      ],
      "metadata": {
        "colab": {
          "base_uri": "https://localhost:8080/"
        },
        "id": "lw9lIj4KQGum",
        "outputId": "38a3a7af-7d1c-4f5d-bdf4-7d347918bb54"
      },
      "execution_count": 1,
      "outputs": [
        {
          "output_type": "stream",
          "name": "stdout",
          "text": [
            "5+6\n",
            "3-5\n",
            "3*5\n",
            "5+6\n"
          ]
        }
      ]
    },
    {
      "cell_type": "markdown",
      "source": [
        "Comentarios en Pyhton"
      ],
      "metadata": {
        "id": "87XJU_NfQyjz"
      }
    },
    {
      "cell_type": "code",
      "source": [
        "#Mi Primer Comentario\n",
        "#Suma de 6+4\n",
        "print(\"6+4\")\n",
        "\n",
        "#Escribir una poesía para mi crush\n",
        "\n",
        "\"\"\"\n",
        "Ej1:Estas comillas dobles\n",
        "te permitirá escribir muchas\n",
        "cosas en python\n",
        "\"\"\"\n",
        "\n",
        "'''\n",
        "Ej2:Estas comillas simples\n",
        "te permitirá escribir y\n",
        "explayarse en python\n",
        "y me veo más bacan\n",
        "'''"
      ],
      "metadata": {
        "colab": {
          "base_uri": "https://localhost:8080/"
        },
        "id": "vdvFxcsFQ4TU",
        "outputId": "5e4be54a-0716-4d41-f13c-183bbedcc4b1"
      },
      "execution_count": null,
      "outputs": [
        {
          "output_type": "stream",
          "name": "stdout",
          "text": [
            "6+4\n"
          ]
        }
      ]
    }
  ]
}