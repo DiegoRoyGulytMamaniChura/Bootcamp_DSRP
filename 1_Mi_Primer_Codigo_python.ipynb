{
  "nbformat": 4,
  "nbformat_minor": 0,
  "metadata": {
    "colab": {
      "provenance": [],
      "authorship_tag": "ABX9TyNm0LuxYPNCglrXzmTzClS0",
      "include_colab_link": true
    },
    "kernelspec": {
      "name": "python3",
      "display_name": "Python 3"
    },
    "language_info": {
      "name": "python"
    }
  },
  "cells": [
    {
      "cell_type": "markdown",
      "metadata": {
        "id": "view-in-github",
        "colab_type": "text"
      },
      "source": [
        "<a href=\"https://colab.research.google.com/github/DiegoRoyGulytMamaniChura/Bootcamp_DSRP/blob/main/1_Mi_Primer_Codigo_python.ipynb\" target=\"_parent\"><img src=\"https://colab.research.google.com/assets/colab-badge.svg\" alt=\"Open In Colab\"/></a>"
      ]
    },
    {
      "cell_type": "markdown",
      "source": [
        "Mi primera linea de codigo"
      ],
      "metadata": {
        "id": "OsTOLl49Oo9D"
      }
    },
    {
      "cell_type": "code",
      "execution_count": null,
      "metadata": {
        "colab": {
          "base_uri": "https://localhost:8080/"
        },
        "id": "huBwljd_Md_M",
        "outputId": "62ce2f30-140c-4836-bde9-def0ec1122e3"
      },
      "outputs": [
        {
          "output_type": "stream",
          "name": "stdout",
          "text": [
            "Hola Soy Diego\n",
            "prueba\n",
            "Hola, soy aprendiz de python\n"
          ]
        }
      ],
      "source": [
        "print(\"Hola Soy Diego\")\n",
        "print(\"prueba\")\n",
        "print(\"Hola, soy aprendiz de python\")"
      ]
    },
    {
      "cell_type": "markdown",
      "source": [
        "Mi primer error"
      ],
      "metadata": {
        "id": "eAVRAAMwQcsC"
      }
    },
    {
      "cell_type": "code",
      "source": [
        "print(\"5+6\")\n",
        "print(\"3-5\")\n",
        "print(\"3*5\")\n",
        "    print(\"5+6\")\n"
      ],
      "metadata": {
        "colab": {
          "base_uri": "https://localhost:8080/",
          "height": 140
        },
        "id": "lw9lIj4KQGum",
        "outputId": "6bcef4f0-13d8-40d8-d524-997ca58d5d93"
      },
      "execution_count": null,
      "outputs": [
        {
          "output_type": "error",
          "ename": "IndentationError",
          "evalue": "ignored",
          "traceback": [
            "\u001b[0;36m  File \u001b[0;32m\"<ipython-input-4-f5efb3799710>\"\u001b[0;36m, line \u001b[0;32m4\u001b[0m\n\u001b[0;31m    print(\"5+6\")\u001b[0m\n\u001b[0m    ^\u001b[0m\n\u001b[0;31mIndentationError\u001b[0m\u001b[0;31m:\u001b[0m unexpected indent\n"
          ]
        }
      ]
    },
    {
      "cell_type": "markdown",
      "source": [
        "Comentarios en Pyhton"
      ],
      "metadata": {
        "id": "87XJU_NfQyjz"
      }
    },
    {
      "cell_type": "code",
      "source": [
        "#Mi Primer Comentario\n",
        "#Suma de 6+4\n",
        "print(\"6+4\")\n",
        "\n",
        "#Escribir una poesía para mi crush\n",
        "\n",
        "\"\"\"\n",
        "Ej1:Estas comillas dobles\n",
        "te permitirá escribir muchas\n",
        "cosas en python\n",
        "\"\"\"\n",
        "\n",
        "'''\n",
        "Ej2:Estas comillas simples\n",
        "te permitirá escribir y\n",
        "explayarse en python\n",
        "y me veo más bacan\n",
        "'''"
      ],
      "metadata": {
        "colab": {
          "base_uri": "https://localhost:8080/"
        },
        "id": "vdvFxcsFQ4TU",
        "outputId": "5e4be54a-0716-4d41-f13c-183bbedcc4b1"
      },
      "execution_count": null,
      "outputs": [
        {
          "output_type": "stream",
          "name": "stdout",
          "text": [
            "6+4\n"
          ]
        }
      ]
    }
  ]
}