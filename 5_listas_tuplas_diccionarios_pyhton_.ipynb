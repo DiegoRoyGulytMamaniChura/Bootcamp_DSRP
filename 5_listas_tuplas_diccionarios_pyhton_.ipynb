{
  "nbformat": 4,
  "nbformat_minor": 0,
  "metadata": {
    "colab": {
      "provenance": [],
      "authorship_tag": "ABX9TyMzqPJkT3j7Tdxrxt0ZJEY8",
      "include_colab_link": true
    },
    "kernelspec": {
      "name": "python3",
      "display_name": "Python 3"
    },
    "language_info": {
      "name": "python"
    }
  },
  "cells": [
    {
      "cell_type": "markdown",
      "metadata": {
        "id": "view-in-github",
        "colab_type": "text"
      },
      "source": [
        "<a href=\"https://colab.research.google.com/github/DiegoRoyGulytMamaniChura/Bootcamp_DSRP/blob/main/5_listas_tuplas_diccionarios_pyhton_.ipynb\" target=\"_parent\"><img src=\"https://colab.research.google.com/assets/colab-badge.svg\" alt=\"Open In Colab\"/></a>"
      ]
    },
    {
      "cell_type": "code",
      "execution_count": null,
      "metadata": {
        "id": "PlkRLpdOAqpk"
      },
      "outputs": [],
      "source": []
    },
    {
      "cell_type": "markdown",
      "source": [
        "# Listas, Tuplas y Diccionarios\n",
        "\n",
        "Las listas, tuplas y diccionarios son estructuras de datos en Python que sirven para organizar y manipular información de manera más eficiente.\n",
        "\n"
      ],
      "metadata": {
        "id": "WADfgQdkiw03"
      }
    },
    {
      "cell_type": "markdown",
      "source": [
        "# 1.- Listas [var1, var2, var3,...varN ]\n",
        "\n",
        "Una lista en Python es una estructura de datos ordenada y mutable que permite almacenar múltiples elementos, que pueden ser de diferentes tipos, en una secuencia. Debido a su mutabilidad, el contenido de una lista puede ser modificado después de su creación mediante la adición, eliminación o cambio de elementos. Las listas son especialmente útiles para situaciones donde el orden y la capacidad de modificar los datos son importantes..\n",
        "\n",
        "1.   Almacenamiento Ordenado: Cuando necesitas mantener un conjunto de elementos en un orden específico, las listas son útiles.\n",
        "\n",
        "2.   Mutabilidad: Las listas te permiten modificar su contenido (añadir, quitar, cambiar elementos).\n",
        "\n",
        "2.   Versatilidad: Pueden contener cualquier tipo de objetos, incluidas otras listas.\n",
        "2.   Búsqueda Secuencial: Útiles para recorrer elementos uno por uno en un orden específico.\n",
        "\n",
        "Ejemplos de Uso:\n",
        "\n",
        "*   Almacenar una serie de puntuaciones en un juego.\n",
        "*   Mantener una lista de tareas por hacer.\n",
        "*   Almacenar datos para realizar operaciones como la suma, el promedio, etc."
      ],
      "metadata": {
        "id": "O-zkzHNgcGNh"
      }
    },
    {
      "cell_type": "code",
      "execution_count": null,
      "metadata": {
        "id": "_wD3BsU0Proj"
      },
      "outputs": [],
      "source": [
        "# Creación de una lista\n",
        "lista_numeros = [1, 2, 3, 4]\n",
        "print(\"Lista numeros:\", lista_numeros )\n",
        "print(type(lista_numeros))\n"
      ]
    },
    {
      "cell_type": "code",
      "source": [
        "\n",
        "lista_tareas = [\"lavar ropa\",\"jugar videojuegos\",\"salir de compras\"]\n",
        "print(\"Lista tareas:\", lista_tareas )\n",
        "print(type(lista_tareas))"
      ],
      "metadata": {
        "colab": {
          "base_uri": "https://localhost:8080/"
        },
        "id": "t5AGdnxaOdDY",
        "outputId": "e62b66d6-2303-4850-cbed-888c7e3bd47a"
      },
      "execution_count": null,
      "outputs": [
        {
          "output_type": "stream",
          "name": "stdout",
          "text": [
            "Lista tareas: ['lavar ropa', 'jugar videojuegos', 'salir de compras']\n",
            "<class 'list'>\n"
          ]
        }
      ]
    },
    {
      "cell_type": "code",
      "source": [
        "lista_type =[1,True,\"Hola\",3.161415]\n",
        "print(type(lista_type))"
      ],
      "metadata": {
        "colab": {
          "base_uri": "https://localhost:8080/"
        },
        "id": "U1hzxN3pOime",
        "outputId": "8e75dbe2-a386-48fb-887f-0e4cde0e7184"
      },
      "execution_count": null,
      "outputs": [
        {
          "output_type": "stream",
          "name": "stdout",
          "text": [
            "<class 'list'>\n"
          ]
        }
      ]
    },
    {
      "cell_type": "markdown",
      "source": [
        "## INDEXING & SCILING\n",
        "\n",
        "\n",
        "*   **Indexing:** Acceso a un elemento individual.\n",
        "*   **Slicing:** Acceso a un rango de elementos (una subsecuencia)."
      ],
      "metadata": {
        "id": "XYy3L5NPL0GZ"
      }
    },
    {
      "cell_type": "markdown",
      "source": [
        "### Indexing:\n",
        "Indexing se refiere al acceso a un elemento de una una lista, tupla o diccionario, utilizando su índice.\n",
        "En Python, los índices comienzan desde cero. Cuando indexas una secuencia, obtienes un elemento individual de ella.\n",
        "![indexing_.jpg](data:image/jpeg;base64,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)"
      ],
      "metadata": {
        "id": "QX1DEk3fL9rR"
      }
    },
    {
      "cell_type": "code",
      "source": [
        "#Ejemplo\n",
        "#          0   1   2   3   4   5   6   7   8\n",
        "mi_lista=[\"a\",\"b\",\"c\",\"d\",\"e\",\"f\",\"g\",\"h\",\"i\"]\n",
        "\n",
        "print(mi_lista[0])\n",
        "print(mi_lista[5])\n",
        "print(mi_lista[2])\n",
        "print(mi_lista[8])\n",
        "\n",
        "print(mi_lista[-1])\n",
        "print(mi_lista[-2])\n",
        "print(mi_lista[-8])"
      ],
      "metadata": {
        "id": "g_Ati1pqNHpu",
        "colab": {
          "base_uri": "https://localhost:8080/"
        },
        "outputId": "2f4dd5c9-439a-4f1f-9181-b6456256073d"
      },
      "execution_count": null,
      "outputs": [
        {
          "output_type": "stream",
          "name": "stdout",
          "text": [
            "a\n",
            "f\n",
            "c\n",
            "i\n",
            "i\n",
            "h\n",
            "b\n"
          ]
        }
      ]
    },
    {
      "cell_type": "code",
      "source": [
        "#Ejemplo\n",
        "\n",
        "mi_lista=[\"a\",\"b\",\"c\",\"d\",\"e\",\"f\",\"g\",\"h\",\"i\"]\n",
        "#         -9  -8  -7  -6  -5  -4  -3  -2  -1\n",
        "\n",
        "print(mi_lista[-1])\n",
        "print(mi_lista[-2])\n",
        "print(mi_lista[-3])"
      ],
      "metadata": {
        "id": "si5fo0oFvsFU"
      },
      "execution_count": null,
      "outputs": []
    },
    {
      "cell_type": "markdown",
      "source": [
        "### Slicing:\n",
        "Slicing se refiere a una porcion de la lista. Ahora la posición de los indices se ubicaran en los bordes de cada casilla\n",
        "![Slicing.jpg](data:image/jpeg;base64,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)"
      ],
      "metadata": {
        "id": "Vu9DiAHwj4h2"
      }
    },
    {
      "cell_type": "code",
      "source": [
        "#Ejemplo\n",
        "\n",
        "mi_lista=[\"a\",\"b\",\"c\",\"d\",\"e\",\"f\",\"g\",\"h\",\"i\"]\n",
        "#Slicing 0   1   2   3   4   5   6   7   8   9\n",
        "\n",
        "\"\"\"\n",
        "                                    usual:usual: unusual\n",
        " Como se aplica -> Formula -> lista[ start:stop : step]\n",
        "\"\"\"\n",
        "\n",
        "mi_lista=[\"a\",\"b\",\"c\",\"d\",\"e\",\"f\",\"g\",\"h\",\"i\"]\n",
        "\n",
        "\n",
        "print(\"Ejemplo 1:\",mi_lista[0:4])\n",
        "print(\"Ejemplo 2:\",mi_lista[ :3]) #Quiero que empieces desde el inicio hasta 3\n",
        "print(\"Ejemplo 3:\",mi_lista[2: ])\n",
        "print(\"Ejemplo 4:\",mi_lista[2:7:2])"
      ],
      "metadata": {
        "id": "F3CSap8akSrh",
        "colab": {
          "base_uri": "https://localhost:8080/"
        },
        "outputId": "065cb976-a66e-4d86-e664-3d82d28f7e02"
      },
      "execution_count": null,
      "outputs": [
        {
          "output_type": "stream",
          "name": "stdout",
          "text": [
            "Ejemplo 1: ['a', 'b', 'c', 'd']\n",
            "Ejemplo 2: ['a', 'b', 'c']\n",
            "Ejemplo 3: ['c', 'd', 'e', 'f', 'g', 'h', 'i']\n",
            "Ejemplo 4: ['c', 'e', 'g']\n"
          ]
        }
      ]
    },
    {
      "cell_type": "code",
      "source": [
        "# Creación de una lista\n",
        "mi_lista = [1, 2, 3, 4]\n",
        "print(\"Lista original:\", mi_lista)\n",
        "\n",
        "# Añadir elemento con .append()\n",
        "mi_lista.append(5)\n",
        "print(\"Despues de añadir un nuevo elemento = 5:\", mi_lista)\n",
        "\n",
        "#Eliminar elemento con .remove()\n",
        "mi_lista.remove(2)\n",
        "print(\"Eliminar elemento 2:\", mi_lista)\n",
        "\n",
        "#Eliminar elemento con .pop() = elimina por default el ultimo ingreso o elemento\n",
        "mi_lista.pop()\n",
        "print(\"Elimina con pop:\", mi_lista)\n",
        "#           0  1  2\n",
        "mi_lista = [1, 3, 4]\n",
        "\n",
        "#Acceder por indice:\n",
        "elemento = mi_lista[2]\n",
        "print(\" elemento:\",elemento)"
      ],
      "metadata": {
        "id": "njVuMmu5sei9",
        "colab": {
          "base_uri": "https://localhost:8080/"
        },
        "outputId": "9abf17a3-8353-4637-b85a-f28323acd365"
      },
      "execution_count": null,
      "outputs": [
        {
          "output_type": "stream",
          "name": "stdout",
          "text": [
            "Lista original: [1, 2, 3, 4]\n",
            "Despues de añadir un nuevo elemento = 5: [1, 2, 3, 4, 5]\n",
            "Eliminar elemento 2: [1, 3, 4, 5]\n",
            "Elimina con pop: [1, 3, 4]\n",
            " elemento: 4\n"
          ]
        }
      ]
    },
    {
      "cell_type": "code",
      "source": [
        "\"\"\"\n",
        "Ahora, un ejercicio para practicar:\n",
        "\n",
        "Enunciado: Tienes una lista de números del 1 al 10. Tu tarea es:\n",
        "\n",
        "- Añadir el número 11 al final de la lista.\n",
        "- Eliminar el número 5 de la lista.\n",
        "- Acceder al primer y último elemento de la lista y guardarlos en variables.\n",
        "- Crear una nueva lista que contenga los elementos del índice 2 al índice 5 de la lista original.\n",
        "- Imprimir todas las listas y variables que has creado.\n",
        "\"\"\"\n",
        "numero = [1,2,3,4,5,6,7,8,9,10]\n",
        "numero.append(11) #check\n",
        "numero.remove(5) #check\n",
        "elemento_primero = numero[0]\n",
        "elemento_ultimo = numero[-1]\n",
        "numero = [1,2,3,4,5,6,7,8,9,10]\n",
        "nueva_lista = numero[2:5]\n",
        "\n",
        "print(\"1: \",numero) #check\n",
        "print(\"2: \",numero) #check\n",
        "print(\"3: \",elemento_primero,elemento_ultimo)\n",
        "print(\"4: \",nueva_lista)"
      ],
      "metadata": {
        "id": "EcIIR98ypO83",
        "colab": {
          "base_uri": "https://localhost:8080/"
        },
        "outputId": "5510c549-8d65-4cbe-830a-ddbdeeb14fec"
      },
      "execution_count": null,
      "outputs": [
        {
          "output_type": "stream",
          "name": "stdout",
          "text": [
            "1:  [1, 2, 3, 4, 5, 6, 7, 8, 9, 10]\n",
            "2:  [1, 2, 3, 4, 5, 6, 7, 8, 9, 10]\n",
            "3:  1 11\n",
            "4:  [3, 4, 5]\n"
          ]
        }
      ]
    },
    {
      "cell_type": "markdown",
      "source": [
        "# 1.- Tuplas ( )\n",
        "\n",
        "Una tupla en Python es una estructura de datos ordenada e inmutable que también permite almacenar múltiples elementos en una secuencia. A diferencia de las listas, las tuplas son inmutables, lo que significa que una vez creadas, no se pueden modificar (no puedes añadir, eliminar o cambiar elementos). Las tuplas son útiles cuando necesitas asegurar la integridad de los datos o cuando deseas utilizar secuencias de elementos como claves para diccionarios, lo cual requiere inmutabilidad.\n",
        "\n",
        "1.   Inmutabilidad: Útiles cuando necesitas un conjunto de elementos que no debe modificarse.\n",
        "2.   Hashable: Se pueden utilizar como claves en diccionarios, lo cual no es posible con listas.\n",
        "3.   Integridad de Datos: Útiles cuando deseas asegurarte de que los datos no sean alterados accidentalmente en el programa.\n",
        "\n",
        "Ejemplos de Uso:\n",
        "\n",
        "*   Coordenadas geográficas (latitud, longitud) que no deberían cambiarse.\n",
        "*   Días de la semana.\n",
        "*   Configuraciones o parámetros constantes en un programa."
      ],
      "metadata": {
        "id": "sr303ULAg8m5"
      }
    },
    {
      "cell_type": "code",
      "source": [
        "# Creación de una tupla\n",
        "mi_tupla = (1,2,3,4)\n",
        "print(\"Tupla original:\", mi_tupla)\n",
        "print(type(mi_tupla))\n",
        "\n",
        "# Acceder por indice:\n",
        "primer_elemento = mi_tupla[0]\n",
        "print(\"Primer Elemento:\",primer_elemento)\n",
        "\n",
        "#Modificaiar un elemento:\n",
        "# mi_tupla[0]=5\n",
        "\n",
        "#Slicing Tupla\n",
        "rebanada = mi_tupla[1:3]\n",
        "print\n"
      ],
      "metadata": {
        "id": "ej_AHBuYhFgj",
        "colab": {
          "base_uri": "https://localhost:8080/"
        },
        "outputId": "d6cbd0d8-3e8e-49ee-d68d-b3e537b33a93"
      },
      "execution_count": null,
      "outputs": [
        {
          "output_type": "stream",
          "name": "stdout",
          "text": [
            "Tupla original: (1, 2, 3, 4)\n",
            "<class 'tuple'>\n",
            "Primer Elemento: 1\n",
            "Tupla : (2, 3)\n"
          ]
        }
      ]
    },
    {
      "cell_type": "code",
      "source": [
        "# Contar ocurrencia de un valor count():\n",
        "mi_tupla = (1,2,3,4,5,6,1,2,3,1,1)\n",
        "ocurrencia = mi_tupla.count(1)\n",
        "print(\"Ocurrencias del numero 1:\", ocurrencia)\n",
        "\n"
      ],
      "metadata": {
        "colab": {
          "base_uri": "https://localhost:8080/"
        },
        "id": "RuRTGApTYkON",
        "outputId": "0d7ce946-0451-469c-aa52-06ae13386974"
      },
      "execution_count": null,
      "outputs": [
        {
          "output_type": "stream",
          "name": "stdout",
          "text": [
            "Ocurrencias del numero 1: 4\n"
          ]
        }
      ]
    },
    {
      "cell_type": "code",
      "source": [
        "\"\"\"\n",
        "Ejercicio para Practicar\n",
        "Enunciado: Tienes una tupla con los días de la semana. Tu tarea es:\n",
        "\n",
        "- Acceder y guardar en una variable el primer día y el último día de la semana de la tupla.\n",
        "- Crear una nueva tupla que contenga solo los días laborables.\n",
        "- Contar cuántos días laborables hay en la nueva tupla.\n",
        "- Imprimir todas las tuplas y variables que has creado.\n",
        "\"\"\"\n",
        "# Tupla inicial con los días de la semana\n",
        "dias_de_la_semana = (\"Lunes\", \"Martes\", \"Miércoles\", \"Jueves\", \"Viernes\", \"Sábado\", \"Domingo\")\n",
        "\n",
        "# Acceder y guardar en una variable el primer día y el último día de la semana de la tupla.\n",
        "primer_dia = dias_de_la_semana[0]\n",
        "ultimo_dia = dias_de_la_semana[-1]\n",
        "\n",
        "# Crear una nueva tupla que contenga solo los días laborables.\n",
        "dias_laborales=dias_de_la_semana[0:5]\n",
        "\n",
        "# Contar cuántos días laborables hay en la nueva tupla.\n",
        "numero_de_dias_lab = len(dias_laborales)\n",
        "\n",
        "print(\"1: \",dias_de_la_semana)\n",
        "print(\"2: \",primer_dia)\n",
        "print(\"3: \",ultimo_dia)\n",
        "print(\"4: \",dias_laborales)\n",
        "print(\"5: \",numero_de_dias_lab)"
      ],
      "metadata": {
        "id": "KtFrYweTqDWg",
        "colab": {
          "base_uri": "https://localhost:8080/"
        },
        "outputId": "b751bdce-bab2-434a-87e2-b43363d06d9f"
      },
      "execution_count": null,
      "outputs": [
        {
          "output_type": "stream",
          "name": "stdout",
          "text": [
            "1:  ('Lunes', 'Martes', 'Miércoles', 'Jueves', 'Viernes', 'Sábado', 'Domingo')\n",
            "2:  Lunes\n",
            "3:  Domingo\n",
            "4:  ('Lunes', 'Martes', 'Miércoles', 'Jueves', 'Viernes')\n",
            "5:  5\n"
          ]
        }
      ]
    },
    {
      "cell_type": "markdown",
      "source": [
        "3.- Diccionarios\n",
        "\n",
        "Un diccionario en Python es una estructura de datos no ordenada que almacena pares de clave-valor. Cada clave en un diccionario debe ser única y puede ser de casi cualquier tipo de datos inmutable, como cadenas de caracteres, números y tuplas. Los diccionarios son extremadamente útiles cuando necesitas realizar búsquedas rápidas basadas en claves personalizadas, en lugar de índices numéricos, o cuando necesitas asociar información relacionada.\n",
        "\n",
        "1.   Acceso Rápido: Ofrecen una forma rápida de acceder a datos mediante una clave única, en lugar de un índice numérico.\n",
        "2.   Asociación Clave-Valor: Útiles cuando necesitas asociar un conjunto de información con un identificador único (la clave).\n",
        "3.   Almacenamiento Desordenado: No mantienen un orden de elementos, lo cual es eficiente para ciertas operaciones.\n",
        "\n",
        "Ejemplos de Uso:\n",
        "\n",
        "*   Bases de datos simplificadas, como un directorio telefónico que asocia nombres con números.\n",
        "*   Contar la frecuencia de palabras en un texto.\n",
        "*   Agrupar configuraciones o parámetros de un programa bajo claves descriptivas.\n"
      ],
      "metadata": {
        "id": "nvjcGgsHhF2o"
      }
    },
    {
      "cell_type": "code",
      "source": [
        "# Creación de un diccionario\n",
        "mi_diccionario = {\n",
        "    \"nombre\": \"Juan\",\n",
        "    \"Apellido\":\"Gutierrez\",\n",
        "    \"edad\": 25,\n",
        "    \"ocupacion\": \"Estudiante\"}\n",
        "print(\"Diccionario original:\", mi_diccionario)\n"
      ],
      "metadata": {
        "id": "T1V1f7ZFhfcn",
        "colab": {
          "base_uri": "https://localhost:8080/"
        },
        "outputId": "1f7614d1-bc5f-404f-8c7c-219eb23771ff"
      },
      "execution_count": null,
      "outputs": [
        {
          "output_type": "stream",
          "name": "stdout",
          "text": [
            "Diccionario original: {'nombre': 'Juan', 'Apellido': 'Gutierrez', 'edad': 25, 'ocupacion': 'Estudiante'}\n",
            "Juan\n"
          ]
        }
      ]
    },
    {
      "cell_type": "code",
      "source": [
        "#Acceder a nombre\n",
        "print(mi_diccionario[\"nombre\"])"
      ],
      "metadata": {
        "colab": {
          "base_uri": "https://localhost:8080/"
        },
        "id": "PgEZ3e5KbOSw",
        "outputId": "8982706b-1f34-4d42-e008-34c5f1c433f7"
      },
      "execution_count": null,
      "outputs": [
        {
          "output_type": "stream",
          "name": "stdout",
          "text": [
            "Juan\n"
          ]
        }
      ]
    },
    {
      "cell_type": "code",
      "source": [
        "#Modificar un valor\n",
        "mi_diccionario[\"edad\"] = 26\n",
        "print(\"1:\", mi_diccionario)\n",
        "print(\"2:\", mi_diccionario[\"edad\"])"
      ],
      "metadata": {
        "colab": {
          "base_uri": "https://localhost:8080/"
        },
        "id": "N9dC2LLebStH",
        "outputId": "adbb2804-97af-40a5-f335-2ca58b33e8fe"
      },
      "execution_count": null,
      "outputs": [
        {
          "output_type": "stream",
          "name": "stdout",
          "text": [
            "1: {'nombre': 'Juan', 'Apellido': 'Gutierrez', 'edad': 26, 'ocupacion': 'Estudiante'}\n",
            "2: 26\n"
          ]
        }
      ]
    },
    {
      "cell_type": "code",
      "source": [
        "#Añadir un elemento y valor:\n",
        "mi_diccionario[\"ciudad\"]=\"Lima\"\n",
        "print(mi_diccionario)\n"
      ],
      "metadata": {
        "colab": {
          "base_uri": "https://localhost:8080/"
        },
        "id": "6zkh3N1dbn-K",
        "outputId": "0fc6f829-94d6-44fc-f328-cc5fcd25acd8"
      },
      "execution_count": null,
      "outputs": [
        {
          "output_type": "stream",
          "name": "stdout",
          "text": [
            "{'nombre': 'Juan', 'Apellido': 'Gutierrez', 'edad': 26, 'ocupacion': 'Estudiante', 'ciudad': 'Lima'}\n"
          ]
        }
      ]
    },
    {
      "cell_type": "code",
      "source": [
        "#Elimnar un elemento - valor\n",
        "del mi_diccionario[\"ciudad\"]\n",
        "print(mi_diccionario)\n"
      ],
      "metadata": {
        "colab": {
          "base_uri": "https://localhost:8080/"
        },
        "id": "F7pouLQCb4qJ",
        "outputId": "146ff554-313f-4869-b089-421ff5ac291e"
      },
      "execution_count": null,
      "outputs": [
        {
          "output_type": "stream",
          "name": "stdout",
          "text": [
            "{'nombre': 'Juan', 'Apellido': 'Gutierrez', 'edad': 26, 'ocupacion': 'Estudiante'}\n"
          ]
        }
      ]
    },
    {
      "cell_type": "code",
      "source": [
        "\"\"\"\n",
        "Ejercicio para Practicar\n",
        "Enunciado: Tienes un diccionario que representa una caja de frutas con la cantidad de cada tipo de fruta. Tu tarea es:\n",
        "\n",
        "- Añadir \"Mangos\" con una cantidad de 3 a la caja de frutas.\n",
        "- Actualizar la cantidad de \"Manzanas\" a 4.\n",
        "- Eliminar \"Peras\" del diccionario.\n",
        "- Acceder y almacenar en una variable la cantidad de \"Naranjas\".\n",
        "- Imprimir el diccionario y la variable que has creado.\n",
        "\"\"\"\n",
        "# Diccionario inicial con la caja de frutas\n",
        "caja_de_frutas = {\"Manzanas\": 2, \"Plátanos\": 5, \"Peras\": 3, \"Naranjas\": 7}\n",
        "\n",
        "#Añadir el mango\n",
        "caja_de_frutas[\"mango\"]=3\n",
        "print(\"1 :\",caja_de_frutas)\n",
        "\n",
        "#Actualizar manzanas a 4\n",
        "caja_de_frutas[\"Manzanas\"] = 4\n",
        "print(\"2 :\", caja_de_frutas)\n",
        "\n",
        "#Eliminar Peras\n",
        "del caja_de_frutas[\"Peras\"]\n",
        "print(\"3 :\",caja_de_frutas)\n",
        "\n",
        "#Acceder y almacenar en una variable la cantidad de \"Naranjas\".\n",
        "naranjas = caja_de_frutas[\"Naranjas\"]\n",
        "print(\"4 :\",naranjas)"
      ],
      "metadata": {
        "id": "ItCEBjnMrPAQ",
        "colab": {
          "base_uri": "https://localhost:8080/"
        },
        "outputId": "44f02218-05d8-4ec7-946a-ff134d92f61a"
      },
      "execution_count": null,
      "outputs": [
        {
          "output_type": "stream",
          "name": "stdout",
          "text": [
            "1 : {'Manzanas': 2, 'Plátanos': 5, 'Peras': 3, 'Naranjas': 7, 'mango': 3}\n",
            "2 : {'Manzanas': 4, 'Plátanos': 5, 'Peras': 3, 'Naranjas': 7, 'mango': 3}\n",
            "3 : {'Manzanas': 4, 'Plátanos': 5, 'Naranjas': 7, 'mango': 3}\n",
            "4 : 7\n"
          ]
        }
      ]
    },
    {
      "cell_type": "code",
      "source": [],
      "metadata": {
        "id": "gIOqGtFYJ2ik"
      },
      "execution_count": null,
      "outputs": []
    }
  ]
}