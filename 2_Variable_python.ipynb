{
  "nbformat": 4,
  "nbformat_minor": 0,
  "metadata": {
    "colab": {
      "provenance": [],
      "authorship_tag": "ABX9TyMBZUAoOlthJlxHC/Puy0AO",
      "include_colab_link": true
    },
    "kernelspec": {
      "name": "python3",
      "display_name": "Python 3"
    },
    "language_info": {
      "name": "python"
    }
  },
  "cells": [
    {
      "cell_type": "markdown",
      "metadata": {
        "id": "view-in-github",
        "colab_type": "text"
      },
      "source": [
        "<a href=\"https://colab.research.google.com/github/DiegoRoyGulytMamaniChura/Bootcamp_DSRP/blob/main/2_Variable_python.ipynb\" target=\"_parent\"><img src=\"https://colab.research.google.com/assets/colab-badge.svg\" alt=\"Open In Colab\"/></a>"
      ]
    },
    {
      "cell_type": "markdown",
      "source": [
        "Mis primeras variables"
      ],
      "metadata": {
        "id": "A4YazrOGTHmc"
      }
    },
    {
      "cell_type": "code",
      "execution_count": null,
      "metadata": {
        "colab": {
          "base_uri": "https://localhost:8080/"
        },
        "id": "weNi3KrmS9ha",
        "outputId": "b39d8e54-c001-4a0a-e4cf-9dfeda77b6ea"
      },
      "outputs": [
        {
          "output_type": "stream",
          "name": "stdout",
          "text": [
            "Diego\n",
            "Mamani\n",
            "Diego Mamani\n"
          ]
        }
      ],
      "source": [
        "#Mi primera variable\n",
        "\n",
        "nombre=\"Diego\"\n",
        "apellido=\"Mamani\"\n",
        "print(nombre)\n",
        "print(apellido)\n",
        "print(nombre,apellido)"
      ]
    },
    {
      "cell_type": "code",
      "source": [
        "#Variables numéricas\n",
        "edad=34\n",
        "\n",
        "print(edad)"
      ],
      "metadata": {
        "colab": {
          "base_uri": "https://localhost:8080/"
        },
        "id": "T9jrpHowT1f6",
        "outputId": "acc8f64c-1981-4c97-c730-9ab6ba7cbce8"
      },
      "execution_count": null,
      "outputs": [
        {
          "output_type": "stream",
          "name": "stdout",
          "text": [
            "34\n"
          ]
        }
      ]
    },
    {
      "cell_type": "code",
      "source": [
        "#Suma de dos números\n",
        "\n",
        "numero1=20\n",
        "numero2=4\n",
        "\n",
        "suma=numero1+numero2\n",
        "\n",
        "print(suma)\n",
        "print(\"La suma es:\", suma)\n",
        "\n",
        "resta=numero1-numero2\n",
        "multiplicacion=numero1*numero2\n",
        "division=numero1/numero2\n",
        "\n",
        "print(\"la resta es:\", resta)\n",
        "print(\"la multiplicación es:\", multiplicacion)\n",
        "print(\"la división es:\", division)"
      ],
      "metadata": {
        "colab": {
          "base_uri": "https://localhost:8080/"
        },
        "id": "oBosVfFkT_d8",
        "outputId": "54c209e2-28ef-4862-c3fa-4fd4a7f5eacb"
      },
      "execution_count": null,
      "outputs": [
        {
          "output_type": "stream",
          "name": "stdout",
          "text": [
            "24\n",
            "La suma es: 24\n",
            "la resta es: 16\n",
            "la multiplicación es: 80\n",
            "la división es: 5.0\n"
          ]
        }
      ]
    },
    {
      "cell_type": "code",
      "source": [],
      "metadata": {
        "id": "j4Q1XZVlUnyn"
      },
      "execution_count": null,
      "outputs": []
    }
  ]
}