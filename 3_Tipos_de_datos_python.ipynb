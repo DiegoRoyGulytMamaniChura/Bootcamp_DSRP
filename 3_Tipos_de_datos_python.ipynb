{
  "nbformat": 4,
  "nbformat_minor": 0,
  "metadata": {
    "colab": {
      "provenance": [],
      "authorship_tag": "ABX9TyOOFUePqIhQx7ZbcyefTjA1",
      "include_colab_link": true
    },
    "kernelspec": {
      "name": "python3",
      "display_name": "Python 3"
    },
    "language_info": {
      "name": "python"
    }
  },
  "cells": [
    {
      "cell_type": "markdown",
      "metadata": {
        "id": "view-in-github",
        "colab_type": "text"
      },
      "source": [
        "<a href=\"https://colab.research.google.com/github/DiegoRoyGulytMamaniChura/Bootcamp_DSRP/blob/main/3_Tipos_de_datos_python.ipynb\" target=\"_parent\"><img src=\"https://colab.research.google.com/assets/colab-badge.svg\" alt=\"Open In Colab\"/></a>"
      ]
    },
    {
      "cell_type": "markdown",
      "source": [
        "STRING(str)=TEXTO"
      ],
      "metadata": {
        "id": "8zbjpKAyYGA6"
      }
    },
    {
      "cell_type": "code",
      "execution_count": null,
      "metadata": {
        "colab": {
          "base_uri": "https://localhost:8080/"
        },
        "id": "tEaBzo3UX2Tg",
        "outputId": "561301f5-7dad-4d74-b2b6-3352d062073f"
      },
      "outputs": [
        {
          "output_type": "stream",
          "name": "stdout",
          "text": [
            "mi nombre es: ROBERTO\n",
            "<class 'str'>\n"
          ]
        }
      ],
      "source": [
        "nombre=\"ROBERTO\" #DOBLE COMILLA\n",
        "nombre2='ROBERTO' #UNA COMILLA\n",
        "\n",
        "#Se puede colocar \"\" o '', las dos funcionan de la misma manera, recomiendo usar \"\"\n",
        "\n",
        "print(\"mi nombre es:\", nombre)\n",
        "#Comando Type, lo que permite saber es que tipo de variable es:\n",
        "print(type(nombre))"
      ]
    },
    {
      "cell_type": "markdown",
      "source": [
        "COSAS PARTICULARES"
      ],
      "metadata": {
        "id": "hp68GbwNfGgA"
      }
    },
    {
      "cell_type": "code",
      "source": [
        "#CONCATENAR\n",
        "nombre=\"Diego\"\n",
        "apellido=\"Mamani\"\n",
        "\n",
        "nombre_completo= nombre + apellido\n",
        "print(nombre_completo)\n",
        "\n",
        "nombre_completo2=nombre+ \" \"+apellido\n",
        "print(nombre_completo2)\n",
        "\n",
        "#Formato 1\n",
        "formato1=\"Hola mi nombre es: \"+nombre + \" y mi apellido es: \"+ apellido\n",
        "\n",
        "print(\"formato 1 : \"formato1)\n",
        "\n",
        "# Formato 2\n",
        "formato2 = \"hola mi nombre es {}  y mi apellido es {}\" .format(nombre, apellido)\n",
        "\n",
        "print\n"
      ],
      "metadata": {
        "colab": {
          "base_uri": "https://localhost:8080/"
        },
        "id": "npgzW09RfLno",
        "outputId": "23612779-ec79-4c0e-ca92-4099a50f9455"
      },
      "execution_count": null,
      "outputs": [
        {
          "output_type": "stream",
          "name": "stdout",
          "text": [
            "DiegoMamani\n",
            "Diego Mamani\n"
          ]
        }
      ]
    },
    {
      "cell_type": "markdown",
      "source": [
        "INT=NUMERO ENTEROS"
      ],
      "metadata": {
        "id": "6rYw0oebZcG0"
      }
    },
    {
      "cell_type": "code",
      "source": [
        "#Los números enteros se refiere a que tiene decimales, como edad y cantidad\n",
        "\n",
        "edad=27\n",
        "cantidad=20\n",
        "\n",
        "print(\"mi edad es:\", edad)\n",
        "print(type(edad))\n",
        "\n",
        "print(\"mi cantidad es:\", cantidad)\n",
        "print(type(cantidad))"
      ],
      "metadata": {
        "colab": {
          "base_uri": "https://localhost:8080/"
        },
        "id": "eIIb15siZZBP",
        "outputId": "bf81816e-1bc3-4ec7-8bd0-57dabd7798da"
      },
      "execution_count": null,
      "outputs": [
        {
          "output_type": "stream",
          "name": "stdout",
          "text": [
            "mi edad es: 27\n",
            "<class 'int'>\n",
            "mi cantidad es: 20\n",
            "<class 'int'>\n"
          ]
        }
      ]
    },
    {
      "cell_type": "code",
      "source": [
        "numero1=3.14151618\n",
        "numero2=0.01524\n",
        "\n",
        "print(\"el valor de pi es:\", numero1)\n",
        "print(type(numero1))\n",
        "print(\"el valode del numero es:\", numero2)\n",
        "print(type(numero2))"
      ],
      "metadata": {
        "colab": {
          "base_uri": "https://localhost:8080/"
        },
        "id": "YDNNMcTfZ527",
        "outputId": "a08868c5-79ff-452c-abea-7cdce24a7804"
      },
      "execution_count": null,
      "outputs": [
        {
          "output_type": "stream",
          "name": "stdout",
          "text": [
            "el valor de pi es: 3.14151618\n",
            "<class 'float'>\n",
            "el valode del numero es: 0.01524\n",
            "<class 'float'>\n"
          ]
        }
      ]
    },
    {
      "cell_type": "markdown",
      "source": [
        "TRABAJO CON NUMEROS"
      ],
      "metadata": {
        "id": "nuXdwD8DiBkU"
      }
    },
    {
      "cell_type": "code",
      "source": [
        "#SUMA UNA EDAD:\n",
        "edad1=15\n",
        "edad2=30\n",
        "\n",
        "print(f\"Formato 3: La suma de edad es {edad1+edad2}\")"
      ],
      "metadata": {
        "colab": {
          "base_uri": "https://localhost:8080/"
        },
        "id": "756AD1p8iGHQ",
        "outputId": "48d737a3-af89-4862-b450-d7a601e8c89e"
      },
      "execution_count": null,
      "outputs": [
        {
          "output_type": "stream",
          "name": "stdout",
          "text": [
            "Formato 3: La suma de edad es 45\n"
          ]
        }
      ]
    },
    {
      "cell_type": "code",
      "source": [
        "var1=3.25\n",
        "var2=5.55\n",
        "var3=8.47\n",
        "\n",
        "x=var1*var2*var3\n",
        "\n",
        "print(x)\n",
        "\n",
        "# NOSOTROS PODEMOS MULTIPLICAR INT(ENTEROS)"
      ],
      "metadata": {
        "colab": {
          "base_uri": "https://localhost:8080/"
        },
        "id": "WGcSn5EAjjLr",
        "outputId": "f7af800c-7570-44fe-cab8-ef36e9d849b7"
      },
      "execution_count": null,
      "outputs": [
        {
          "output_type": "stream",
          "name": "stdout",
          "text": [
            "152.777625\n"
          ]
        }
      ]
    },
    {
      "cell_type": "markdown",
      "source": [
        "BOLEANOS(bool) true o fals"
      ],
      "metadata": {
        "id": "RA7hxQxibD9f"
      }
    },
    {
      "cell_type": "code",
      "source": [
        "boleano1= True\n",
        "boleano2= False\n",
        "\n",
        "print(\"el boleano 1 es:\", boleano1)\n",
        "print(type(boleano1))\n",
        "\n",
        "print(\"el boleano 2 es:\", boleano2)\n",
        "print(type(boleano2))"
      ],
      "metadata": {
        "colab": {
          "base_uri": "https://localhost:8080/"
        },
        "id": "4WI12vhWbCDv",
        "outputId": "703446ec-e049-4fa4-b500-7d56c9339b81"
      },
      "execution_count": null,
      "outputs": [
        {
          "output_type": "stream",
          "name": "stdout",
          "text": [
            "el boleano 1 es: True\n",
            "<class 'bool'>\n",
            "el boleano 2 es: False\n",
            "<class 'bool'>\n"
          ]
        }
      ]
    },
    {
      "cell_type": "markdown",
      "source": [
        "INPUT"
      ],
      "metadata": {
        "id": "uq_2hf2kkKH0"
      }
    },
    {
      "cell_type": "code",
      "source": [
        "#La funcion input nos permite ingresar datos a la consola\n",
        "#Ejemplo 1:\n",
        "\n",
        "nombre=input(\"ingrese el nombre: \")\n",
        "print(\"el nombre ingresado es: \", nombre)\n",
        "\n",
        "numero=input(\"ingrese el numero: \")\n",
        "print(\"el numero ingresado es: \", numero)\n",
        "print(type(numero))\n"
      ],
      "metadata": {
        "colab": {
          "base_uri": "https://localhost:8080/"
        },
        "id": "swM5LsyqkMfq",
        "outputId": "e2069273-4c23-4141-93c5-2155aa83b2f1"
      },
      "execution_count": null,
      "outputs": [
        {
          "output_type": "stream",
          "name": "stdout",
          "text": [
            "ingrese el nombre: dEGO\n",
            "el nombre ingresado es:  dEGO\n",
            "ingrese el numero: 5\n",
            "el numero ingresado es:  5\n",
            "<class 'str'>\n"
          ]
        }
      ]
    },
    {
      "cell_type": "code",
      "source": [
        "#FUNCIONES , int() y float()\n",
        "#Ejemplo-int"
      ],
      "metadata": {
        "id": "sfSay71-lKq5"
      },
      "execution_count": null,
      "outputs": []
    }
  ]
}