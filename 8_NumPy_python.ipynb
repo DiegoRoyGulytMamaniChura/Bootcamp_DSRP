{
  "nbformat": 4,
  "nbformat_minor": 0,
  "metadata": {
    "colab": {
      "provenance": [],
      "authorship_tag": "ABX9TyMpjw6X8fPxlV3ypryfk2mL",
      "include_colab_link": true
    },
    "kernelspec": {
      "name": "python3",
      "display_name": "Python 3"
    },
    "language_info": {
      "name": "python"
    }
  },
  "cells": [
    {
      "cell_type": "markdown",
      "metadata": {
        "id": "view-in-github",
        "colab_type": "text"
      },
      "source": [
        "<a href=\"https://colab.research.google.com/github/DiegoRoyGulytMamaniChura/Bootcamp_DSRP/blob/main/8_NumPy_python.ipynb\" target=\"_parent\"><img src=\"https://colab.research.google.com/assets/colab-badge.svg\" alt=\"Open In Colab\"/></a>"
      ]
    },
    {
      "cell_type": "markdown",
      "source": [
        "\n",
        "# Manipulacion y Transformación de Datos con Pandas y NumPy"
      ],
      "metadata": {
        "id": "Bv7WB6Epl21q"
      }
    },
    {
      "cell_type": "markdown",
      "source": [
        "## ¿Por qué NumPy?\n",
        "NumPy es una biblioteca en Python que se utiliza principalmente para realizar cálculos en arrays y matrices. Es especialmente útil para tareas de álgebra lineal, cálculo y modelado de datos científicos.\n",
        "\n",
        "- ¿Profesor que es un Array?. Es una lista organizada de numeros\n",
        "- ¿Profesor, y porque NumPy?\n",
        "- Las Razones:\n",
        "  - Es muy veloz, hasta 50 veces más rápido que usar una lista de Python o C.\n",
        "  - Optimiza el almacenamiento en memoria.\n",
        "  - Además, maneja distintos tipos de datos.\n",
        "  - Es una librería muy poderosa, se pueden crear redes neuronales desde cero.\n",
        "\n",
        "\n",
        "\n"
      ],
      "metadata": {
        "id": "q-pp_19lmF1q"
      }
    },
    {
      "cell_type": "markdown",
      "source": [
        "## Numpy -> Arrays\n",
        "\n",
        "\n",
        "*   Es una estructura de datos que almacena una colección de elementos, generalmente del mismo tipo, en una única variable. Los elementos se pueden acceder mediante índices, que son números enteros que indican la posición del elemento dentro del arreglo. En lenguajes de programación como Python, los arrays son estructuras de datos muy utilizadas para representar listas, secuencias y otros tipos de colecciones.\n",
        "\n",
        "\n"
      ],
      "metadata": {
        "id": "FBC99gBfo9vC"
      }
    },
    {
      "cell_type": "code",
      "execution_count": null,
      "metadata": {
        "id": "SHyYfL6-l14b"
      },
      "outputs": [],
      "source": [
        "\"\"\"\n",
        "Para los que usen jupyter, tienen que instalar con el siguiente comando:\n",
        "pip install numpy\n",
        "\"\"\"\n",
        "\n",
        "#Como trabajamos en numpy, o mejor dicho como importamos\n",
        "\n",
        "import numpy as np\n"
      ]
    },
    {
      "cell_type": "markdown",
      "source": [
        "## Nivel Básico"
      ],
      "metadata": {
        "id": "QoqVzOV_rlMI"
      }
    },
    {
      "cell_type": "markdown",
      "source": [
        "#### Array Unidimensional"
      ],
      "metadata": {
        "id": "2WiJjFw0efFb"
      }
    },
    {
      "cell_type": "code",
      "source": [
        "lista = [1,2,3,4,5,6,7,8,9]\n",
        "lista"
      ],
      "metadata": {
        "colab": {
          "base_uri": "https://localhost:8080/"
        },
        "id": "zyRkx0rWpXvf",
        "outputId": "f5c2af0e-6122-4442-e5bf-d0e104971815"
      },
      "execution_count": null,
      "outputs": [
        {
          "output_type": "execute_result",
          "data": {
            "text/plain": [
              "[1, 2, 3, 4, 5, 6, 7, 8, 9]"
            ]
          },
          "metadata": {},
          "execution_count": 1
        }
      ]
    },
    {
      "cell_type": "code",
      "source": [
        "#Forma para convertir una Lista en un Array\n",
        "array = np.array(lista)"
      ],
      "metadata": {
        "id": "nJrMvzLnphg8"
      },
      "execution_count": null,
      "outputs": []
    },
    {
      "cell_type": "code",
      "source": [
        "type(array)"
      ],
      "metadata": {
        "colab": {
          "base_uri": "https://localhost:8080/"
        },
        "id": "ClbmAmQ3pmm6",
        "outputId": "57d733ae-0120-4094-9cf3-70ed8e25dd0f"
      },
      "execution_count": null,
      "outputs": [
        {
          "output_type": "execute_result",
          "data": {
            "text/plain": [
              "numpy.ndarray"
            ]
          },
          "metadata": {},
          "execution_count": 5
        }
      ]
    },
    {
      "cell_type": "markdown",
      "source": [
        "Array Bidimensional : Matriz"
      ],
      "metadata": {
        "id": "sNCxIOoKeljF"
      }
    },
    {
      "cell_type": "code",
      "source": [
        "#Esta es una Matriz 2x3\n",
        "array2 = np.array([[1, 2, 3], [4, 5, 6]])\n",
        "array2"
      ],
      "metadata": {
        "colab": {
          "base_uri": "https://localhost:8080/"
        },
        "id": "Txg0DpZseoEN",
        "outputId": "c86cb59d-eb55-4cb5-f7b8-5d065f81641e"
      },
      "execution_count": null,
      "outputs": [
        {
          "output_type": "execute_result",
          "data": {
            "text/plain": [
              "array([[1, 2, 3],\n",
              "       [4, 5, 6]])"
            ]
          },
          "metadata": {},
          "execution_count": 7
        }
      ]
    },
    {
      "cell_type": "markdown",
      "source": [
        "#### Ejercicios:\n",
        "\n",
        "*   Ejercicio 1: Crea un array unidimensional con los números del 5 al 10.\n",
        "*   Ejercicio 2: Crea un array bidimensional de forma 3×3 que contenga los númerosd el 1 al 9.\n"
      ],
      "metadata": {
        "id": "EdKWonhBe4bl"
      }
    },
    {
      "cell_type": "code",
      "source": [
        "#SOL 1:\n",
        "\n",
        "array1 = [5,6,7,8,9,10]\n",
        "array1 = np.array(array1)\n",
        "\n",
        "type(array1)\n",
        "\n",
        "print(array1)"
      ],
      "metadata": {
        "colab": {
          "base_uri": "https://localhost:8080/"
        },
        "id": "NpDDGV9Ze097",
        "outputId": "317c3ddb-0512-4104-c884-ff47fd430db6"
      },
      "execution_count": null,
      "outputs": [
        {
          "output_type": "stream",
          "name": "stdout",
          "text": [
            "[ 5  6  7  8  9 10]\n"
          ]
        }
      ]
    },
    {
      "cell_type": "code",
      "source": [
        "#SOL 2:\n",
        "\n",
        "array2 = np.array([[1,2,3],[4,5,6],[7,8,9]])\n",
        "type(array2)\n",
        "\n",
        "print(array2)\n"
      ],
      "metadata": {
        "id": "FQImIxOHl7cJ",
        "colab": {
          "base_uri": "https://localhost:8080/"
        },
        "outputId": "e067f8ff-18db-4c3c-e4de-a32d795ce174"
      },
      "execution_count": null,
      "outputs": [
        {
          "output_type": "stream",
          "name": "stdout",
          "text": [
            "[[1 2 3]\n",
            " [4 5 6]\n",
            " [7 8 9]]\n"
          ]
        }
      ]
    },
    {
      "cell_type": "markdown",
      "source": [
        "#### Indexación y Slicing\n",
        "Puedes acceder a elementos individuales y también usar \"slicing\" para acceder a sub-arrays."
      ],
      "metadata": {
        "id": "onHEaqc2Ep0Y"
      }
    },
    {
      "cell_type": "code",
      "source": [
        "#Acceder a un elemento (Indexacion)\n",
        "\n",
        "#        0 1 2 3 4 5 6 7 8\n",
        "lista = [1,2,3,4,5,6,7,8,9]\n",
        "array = np.array(lista)\n",
        "\n",
        "print(array[0])\n",
        "print(array[3])\n"
      ],
      "metadata": {
        "id": "IWVLq7uhFope",
        "colab": {
          "base_uri": "https://localhost:8080/"
        },
        "outputId": "73ee8f0e-3de0-4451-eaa0-aee3e3dfbdac"
      },
      "execution_count": null,
      "outputs": [
        {
          "output_type": "stream",
          "name": "stdout",
          "text": [
            "1\n",
            "4\n",
            "[3 4 5 6 7]\n"
          ]
        }
      ]
    },
    {
      "cell_type": "code",
      "source": [
        "#Slicing\n",
        "#       0 1 2 3 4 5 6 7 8 9\n",
        "lista = [1,2,3,4,5,6,7,8,9]\n",
        "array = np.array(lista)\n",
        "\n",
        "print(array[1:3])\n",
        "print(array[4:9])\n",
        "print(array[4: ])\n",
        "print(array[:8])\n"
      ],
      "metadata": {
        "colab": {
          "base_uri": "https://localhost:8080/"
        },
        "id": "UhxClChtiTPU",
        "outputId": "e5092cdf-b170-4b8e-8684-7ebede64dd2a"
      },
      "execution_count": null,
      "outputs": [
        {
          "output_type": "stream",
          "name": "stdout",
          "text": [
            "[2 3]\n",
            "[5 6 7 8 9]\n",
            "[5 6 7 8 9]\n",
            "[1 2 3 4 5 6 7 8]\n"
          ]
        }
      ]
    },
    {
      "cell_type": "markdown",
      "source": [
        "Ejercicios:\n",
        "\n",
        "*   Ejercicio 3: Accede al último elemento de un array unidimensional de tu elección.\n",
        "*   Ejercicio 4: Crea un array bidimensional y accede a una de sus submatrices.\n",
        "\n"
      ],
      "metadata": {
        "id": "UbCCb1CxifDB"
      }
    },
    {
      "cell_type": "code",
      "source": [
        "#SOL:\n",
        "#         0 1 2 3 4 5 6 7 8\n",
        "array1 = [1,2,3,4,5,6,7,8,9]\n",
        "#        -9-8-7-6-5-4-3-2-1\n",
        "array1 = np.array(array1)\n",
        "\n",
        "print(array[8])\n",
        "print(array[-1])\n"
      ],
      "metadata": {
        "colab": {
          "base_uri": "https://localhost:8080/"
        },
        "id": "EOKgTTdbjPMh",
        "outputId": "357475d9-2954-4f1a-c62e-5abc285fd530"
      },
      "execution_count": null,
      "outputs": [
        {
          "output_type": "stream",
          "name": "stdout",
          "text": [
            "9\n",
            "9\n"
          ]
        }
      ]
    },
    {
      "cell_type": "code",
      "source": [
        "#SOL:\n",
        "array2 = np.array([[1, 2, 3], [4, 5, 6]])\n",
        "print(array2[1])\n",
        "print(array2[0])\n"
      ],
      "metadata": {
        "colab": {
          "base_uri": "https://localhost:8080/"
        },
        "id": "BTmBH9lcmk2c",
        "outputId": "da018b91-f4d5-4f4d-e90a-56d14a0b7595"
      },
      "execution_count": null,
      "outputs": [
        {
          "output_type": "stream",
          "name": "stdout",
          "text": [
            "[4 5 6]\n",
            "[1 2 3]\n"
          ]
        }
      ]
    },
    {
      "cell_type": "markdown",
      "source": [
        "#### Operaciones Básicas"
      ],
      "metadata": {
        "id": "-dlZ2r-AEuyX"
      }
    },
    {
      "cell_type": "code",
      "source": [
        "#Suma de ARRAYS\n",
        "#Ejemplo 1:\n",
        "\n",
        "sum_array= np.array([1,2,3]) + np.array([4,5,6])\n",
        "print(\"suma: \",sum_array)\n",
        "\n",
        "#Resta de Arrays\n",
        "#Ejemplo2:\n",
        "\n",
        "rest_array= np.array([4,5,6]) - np.array([1,2,3])\n",
        "print(\"resta: \",rest_array)\n",
        "\n",
        "rest_array= np.array([1,2,3]) - np.array([4,5,6])\n",
        "print(\"resta: \",rest_array)\n"
      ],
      "metadata": {
        "id": "l4mFmwfWGXwu",
        "colab": {
          "base_uri": "https://localhost:8080/"
        },
        "outputId": "f6553379-cfc2-446b-f096-523d27858447"
      },
      "execution_count": null,
      "outputs": [
        {
          "output_type": "stream",
          "name": "stdout",
          "text": [
            "suma:  [5 7 9]\n",
            "resta:  [3 3 3]\n",
            "resta:  [-3 -3 -3]\n"
          ]
        }
      ]
    },
    {
      "cell_type": "code",
      "source": [
        "#Ejemplo 2:\n",
        "a = np.array([1, 2, 3])\n",
        "b = np.array([4, 5, 6])\n",
        "\n",
        "suma =a + b\n",
        "\n",
        "print(suma)\n",
        "\n",
        "resta = b - a\n",
        "\n",
        "print(resta)"
      ],
      "metadata": {
        "colab": {
          "base_uri": "https://localhost:8080/"
        },
        "id": "mgrxX2lBjk2U",
        "outputId": "9a24c001-ccd9-46e6-e529-25a4d93d5fa2"
      },
      "execution_count": null,
      "outputs": [
        {
          "output_type": "stream",
          "name": "stdout",
          "text": [
            "[5 7 9]\n",
            "[3 3 3]\n"
          ]
        }
      ]
    },
    {
      "cell_type": "markdown",
      "source": [
        "Ejercicios:\n",
        "\n",
        "\n",
        "*   Ejercicio 5: Multiplica dos arrays: array1 = [5,6] y array2 = [3,2]\n",
        "*   Ejercicio 6: Multiplicación de array bidimensional por un escalar array([1,2,3])*2\n"
      ],
      "metadata": {
        "id": "ff9DnEPUpmkn"
      }
    },
    {
      "cell_type": "code",
      "source": [
        "#SOL 5:\n",
        "array1 = [5,6]\n",
        "array1= np.array(array1)\n",
        "\n",
        "array2 = [3,2]\n",
        "array2= np.array(array2)\n",
        "\n",
        "multi_array = array1 * array2\n",
        "\n",
        "print(multi_array)"
      ],
      "metadata": {
        "colab": {
          "base_uri": "https://localhost:8080/"
        },
        "id": "ryTMrnKCq0VW",
        "outputId": "81f3594c-9c34-4bd9-b494-9ca49d60dab6"
      },
      "execution_count": null,
      "outputs": [
        {
          "output_type": "stream",
          "name": "stdout",
          "text": [
            "[15 12]\n"
          ]
        }
      ]
    },
    {
      "cell_type": "code",
      "source": [
        "#SOL 6:\n",
        "array3 = np.array([[1,2,3],[4,5,6]])\n",
        "\n",
        "mult2=array3*2\n",
        "\n",
        "print(mult2)"
      ],
      "metadata": {
        "colab": {
          "base_uri": "https://localhost:8080/"
        },
        "id": "9Zn2Br2xrNvs",
        "outputId": "20a9c899-7b4b-45fb-84f6-5fd013f19d35"
      },
      "execution_count": null,
      "outputs": [
        {
          "output_type": "stream",
          "name": "stdout",
          "text": [
            "[[ 2  4  6]\n",
            " [ 8 10 12]]\n"
          ]
        }
      ]
    },
    {
      "cell_type": "markdown",
      "source": [
        "## Nivel Intermedio\n"
      ],
      "metadata": {
        "id": "1Cm0yolLE4RI"
      }
    },
    {
      "cell_type": "markdown",
      "source": [
        "### Manipulación de forma\n",
        "\n",
        "*   NumPy permite cambiar la forma y la estructura de los arrays sin alterar los datos subyacentes."
      ],
      "metadata": {
        "id": "RqRUXQ6iuHfx"
      }
    },
    {
      "cell_type": "code",
      "source": [
        "#Convertir un array en una matriz .reshape()\n",
        "\n",
        "a = np.array([1, 2, 3, 4])\n",
        "reshaped = a.reshape(2, 2)\n",
        "\n",
        "reshaped"
      ],
      "metadata": {
        "id": "sqbzhiEqGiOs",
        "colab": {
          "base_uri": "https://localhost:8080/"
        },
        "outputId": "96ae1c3d-35bb-419d-ed29-292e18377b58"
      },
      "execution_count": null,
      "outputs": [
        {
          "output_type": "execute_result",
          "data": {
            "text/plain": [
              "array([[1, 2],\n",
              "       [3, 4]])"
            ]
          },
          "metadata": {},
          "execution_count": 41
        }
      ]
    },
    {
      "cell_type": "code",
      "source": [
        "#Convertir una matriz en un array\n",
        "\n",
        "b = np.array([[1, 2], [3, 4]])\n",
        "flattened = b.flatten()\n",
        "\n",
        "flattened"
      ],
      "metadata": {
        "colab": {
          "base_uri": "https://localhost:8080/"
        },
        "id": "qA5Qk3v3uhx9",
        "outputId": "58a0a717-2ce2-49d7-e366-6a4b411419ed"
      },
      "execution_count": null,
      "outputs": [
        {
          "output_type": "execute_result",
          "data": {
            "text/plain": [
              "array([1, 2, 3, 4])"
            ]
          },
          "metadata": {},
          "execution_count": 42
        }
      ]
    },
    {
      "cell_type": "markdown",
      "source": [
        "### Inspeccion de una matriz\n",
        "\n",
        "*  Si es una matriz 1D o 2D o más. (usar `ndim`)\n",
        "*  Cuántos elementos están presentes en cada dimensión (use `shape`)\n",
        "*  ¿Cuál es su tipo de datos (uso `dtype`)\n",
        "*  ¿Cuál es el número total de elementos en él (uso `size`)\n",
        "*  Muestras de los primeros elementos de la matriz (a través de la indexación)\n",
        "*  Tamaño (en bytes) de cada elemento de una matriz NumPy (usa `itemsize`)"
      ],
      "metadata": {
        "id": "jSaQYpeZLJfE"
      }
    },
    {
      "cell_type": "code",
      "source": [
        "lista = [[1, 2, 3, 4],[3, 4, 5, 6], [5, 6, 7, 8]]\n",
        "arr = np.array(lista, dtype='float')\n",
        "arr"
      ],
      "metadata": {
        "id": "utHxW0PbLHcK",
        "colab": {
          "base_uri": "https://localhost:8080/"
        },
        "outputId": "e62dbb66-b284-43e2-f8f5-c72861c935b3"
      },
      "execution_count": null,
      "outputs": [
        {
          "output_type": "execute_result",
          "data": {
            "text/plain": [
              "array([[1., 2., 3., 4.],\n",
              "       [3., 4., 5., 6.],\n",
              "       [5., 6., 7., 8.]])"
            ]
          },
          "metadata": {},
          "execution_count": 43
        }
      ]
    },
    {
      "cell_type": "code",
      "source": [
        "print('Shape: ', arr.shape)\n",
        "print('Datatype: ', arr.dtype)\n",
        "print('Size: ', arr.size)\n",
        "print('Num Dimensions: ', arr.ndim)\n",
        "print('Tamaño de elemento en bytes: ', arr.itemsize)"
      ],
      "metadata": {
        "id": "iulEvD6WLldp",
        "colab": {
          "base_uri": "https://localhost:8080/"
        },
        "outputId": "89c8eb81-ee4a-4db8-bfec-cddfb7a026e0"
      },
      "execution_count": null,
      "outputs": [
        {
          "output_type": "stream",
          "name": "stdout",
          "text": [
            "Shape:  (3, 4)\n",
            "Datatype:  float64\n",
            "Size:  12\n",
            "Num Dimensions:  2\n",
            "Tamaño de elemento en bytes:  8\n"
          ]
        }
      ]
    },
    {
      "cell_type": "markdown",
      "source": [
        "Ejercicios:\n",
        "\n",
        "*   Ejercicio 8: Convierte un array de forma 5×3 a 3×5.\n",
        "*   Ejercicio 9: Aplana un array bidimensional de tu elección.\n",
        "\n"
      ],
      "metadata": {
        "id": "Jt13HgoZvnSM"
      }
    },
    {
      "cell_type": "code",
      "source": [
        "#SOL 1:\n",
        "\n",
        "e1 = np.array([[1, 2, 3],\n",
        "               [3, 4, 5],\n",
        "               [5, 6, 7],\n",
        "               [7, 8, 9],\n",
        "               [1,1,1]]).reshape(3,5)\n",
        "\n",
        "print(e1)"
      ],
      "metadata": {
        "colab": {
          "base_uri": "https://localhost:8080/"
        },
        "id": "_xwMv3FNv3Fx",
        "outputId": "06c6934c-9a99-4915-dbe3-8c079ef6e6ff"
      },
      "execution_count": null,
      "outputs": [
        {
          "output_type": "stream",
          "name": "stdout",
          "text": [
            "[[1 2 3 3 4]\n",
            " [5 5 6 7 7]\n",
            " [8 9 1 1 1]]\n"
          ]
        }
      ]
    },
    {
      "cell_type": "code",
      "source": [
        "#SOL 2:\n",
        "e2 = np.array([[9, 8], [7, 6]]).flatten()\n",
        "e2"
      ],
      "metadata": {
        "colab": {
          "base_uri": "https://localhost:8080/"
        },
        "id": "KurcGpWvwELf",
        "outputId": "73b17525-0e3c-4444-9c27-e452e144de40"
      },
      "execution_count": null,
      "outputs": [
        {
          "output_type": "execute_result",
          "data": {
            "text/plain": [
              "array([9, 8, 7, 6])"
            ]
          },
          "metadata": {},
          "execution_count": 49
        }
      ]
    },
    {
      "cell_type": "markdown",
      "source": [
        "### Funciones matemáticas y estadisticas\n",
        "\n",
        "*   NumPy viene con una variedad de funciones matemáticas y estadisticas para operar en arrays.\n",
        "\n",
        "\n"
      ],
      "metadata": {
        "id": "3rWbDXwQv40i"
      }
    },
    {
      "cell_type": "code",
      "source": [
        "#Numeros random con randint('numero_inicial','numero_final','cantidad')\n",
        "import numpy as np\n",
        "\n",
        "a1 = np.random.randint(1,20,10)\n",
        "a1"
      ],
      "metadata": {
        "colab": {
          "base_uri": "https://localhost:8080/"
        },
        "id": "xgSKQeHRIkDA",
        "outputId": "a4520336-cbdd-4e69-b3e7-12665bc3ec2e"
      },
      "execution_count": null,
      "outputs": [
        {
          "output_type": "execute_result",
          "data": {
            "text/plain": [
              "array([10, 19, 15, 14,  6,  9, 11, 15, 13, 15])"
            ]
          },
          "metadata": {},
          "execution_count": 52
        }
      ]
    },
    {
      "cell_type": "code",
      "source": [
        "#Ejemplo suma:\n",
        "sum = np.sum(a1)\n",
        "print(sum)\n",
        "\n"
      ],
      "metadata": {
        "id": "3sU-FhVMwFev",
        "colab": {
          "base_uri": "https://localhost:8080/"
        },
        "outputId": "fdc120e6-e5b8-47f0-ec83-851f8f43a5ea"
      },
      "execution_count": null,
      "outputs": [
        {
          "output_type": "stream",
          "name": "stdout",
          "text": [
            "127\n"
          ]
        }
      ]
    },
    {
      "cell_type": "code",
      "source": [
        "# Suponiendo que ya tienes un array 'arr' definido, por ejemplo:\n",
        "\n",
        "arr = np.array([ 5.90, 2.3, 4.66, 6.33 , 1.52, 3.14 ])\n",
        "np.array(arr, dtype='float')\n",
        "\n",
        "print('Datatype: ', arr.dtype)\n",
        "print('Size: ', arr.size)\n",
        "\n",
        "print(\"\\n Operaciones Matematicas\")\n",
        "\n",
        "print(\"Suma es: \", arr.sum())\n",
        "print(\"Max Valor es: \", arr.max())\n",
        "print(\"Min valor es: \", arr.min())\n",
        "\n",
        "print(\"\\n Operaciones Estadisticas\")\n",
        "\n",
        "print(\"Promedio: \",arr.mean())\n",
        "print(\"Mediana:\", np.median(arr))\n",
        "print(\"Desviacion Estandar:\", arr.std())\n",
        "print(\"Variacion :\", arr.var())\n",
        "\n",
        "print(\"\\n Operaciones Adicionales\")\n",
        "\n",
        "print(\"Valor raiz cuadrada:\", np.sqrt(arr))\n",
        "print(\"Redondeo:\", np.round(np.sqrt(arr),2))\n",
        "print(\"Numeros Abs\", np.abs(np.sqrt(arr)))\n",
        "print(np.round(np.abs(np.sqrt(arr))))\n",
        "\n"
      ],
      "metadata": {
        "colab": {
          "base_uri": "https://localhost:8080/"
        },
        "id": "eAzw7fHLQUSZ",
        "outputId": "b233f589-0008-4ce0-9501-7a9b7010b79f"
      },
      "execution_count": null,
      "outputs": [
        {
          "output_type": "stream",
          "name": "stdout",
          "text": [
            "Datatype:  float64\n",
            "Size:  6\n",
            "\n",
            " Operaciones Matematicas\n",
            "Suma es:  23.849999999999998\n",
            "Max Valor es:  6.33\n",
            "Min valor es:  1.52\n",
            "\n",
            " Operaciones Estadisticas\n",
            "Promedio:  3.9749999999999996\n",
            "Mediana: 3.9000000000000004\n",
            "Desviacion Estandar: 1.7912169978350847\n",
            "Variacion : 3.208458333333334\n",
            "\n",
            " Operaciones Adicionales\n",
            "Valor raiz cuadrada: [2.42899156 1.51657509 2.15870331 2.51594913 1.2328828  1.77200451]\n",
            "Redondeo: [2.43 1.52 2.16 2.52 1.23 1.77]\n",
            "Numeros Abs [2.42899156 1.51657509 2.15870331 2.51594913 1.2328828  1.77200451]\n",
            "[2. 2. 2. 3. 1. 2.]\n"
          ]
        }
      ]
    },
    {
      "cell_type": "markdown",
      "source": [
        "### Operaciones en Array y Matrices\n",
        "\n",
        "\n"
      ],
      "metadata": {
        "id": "ZCHL1issaA_0"
      }
    },
    {
      "cell_type": "markdown",
      "source": [
        "#### Operaciones de Array"
      ],
      "metadata": {
        "id": "q6LuI9Btb3rf"
      }
    },
    {
      "cell_type": "code",
      "source": [
        "import numpy as np\n",
        "#Arrange() es una funcion que crea una array en con la cantidad de numeros deseados\n",
        "\n",
        "arr =np.arange(0,10)\n",
        "\n",
        "#       1 2 3 4 5 6 7 8 9 10\n",
        "#arr = (0,1,2,3,4,5,6,7,8,9)\n",
        "#\n",
        "print(arr)"
      ],
      "metadata": {
        "colab": {
          "base_uri": "https://localhost:8080/"
        },
        "id": "KQiJu-XjaJ04",
        "outputId": "36964bc5-828a-42ca-e9c4-799e3c2c511e"
      },
      "execution_count": null,
      "outputs": [
        {
          "output_type": "stream",
          "name": "stdout",
          "text": [
            "[0 1 2 3 4 5 6 7 8 9]\n"
          ]
        }
      ]
    },
    {
      "cell_type": "code",
      "source": [
        "#Sumamos + 2\n",
        "suma = arr + 2\n",
        "print(\"suma :\",suma)\n"
      ],
      "metadata": {
        "id": "fdRNOECkaQE8",
        "colab": {
          "base_uri": "https://localhost:8080/"
        },
        "outputId": "ff57d8ed-28de-45e7-9ce9-e392e54fc131"
      },
      "execution_count": null,
      "outputs": [
        {
          "output_type": "stream",
          "name": "stdout",
          "text": [
            "[2 3 4 5 6 7]\n"
          ]
        }
      ]
    },
    {
      "cell_type": "code",
      "source": [
        "#Resta - 1\n",
        "resta = arr - 2\n",
        "print(\"resta :\",resta)\n"
      ],
      "metadata": {
        "id": "ZDF0KBrTbixC",
        "colab": {
          "base_uri": "https://localhost:8080/"
        },
        "outputId": "b643d1bd-86f6-49a1-9df4-679f5d5627a3"
      },
      "execution_count": null,
      "outputs": [
        {
          "output_type": "stream",
          "name": "stdout",
          "text": [
            "[-2 -1  0  1  2  3]\n"
          ]
        }
      ]
    },
    {
      "cell_type": "code",
      "source": [
        "#Division\n",
        "div =arr/3\n",
        "print(np.round(div,2))"
      ],
      "metadata": {
        "id": "ckYgAZUnbkSD",
        "colab": {
          "base_uri": "https://localhost:8080/"
        },
        "outputId": "b76b6203-469d-4792-d463-e737e53ca24f"
      },
      "execution_count": null,
      "outputs": [
        {
          "output_type": "stream",
          "name": "stdout",
          "text": [
            "[0.   0.33 0.67 1.   1.33 1.67]\n"
          ]
        }
      ]
    },
    {
      "cell_type": "code",
      "source": [
        "#Potencia\n",
        "pot =arr**2\n",
        "print(pot)"
      ],
      "metadata": {
        "id": "4X8IvE8gbl9W",
        "colab": {
          "base_uri": "https://localhost:8080/"
        },
        "outputId": "6cd59b6b-2fb5-4595-ebe7-064f88a52e97"
      },
      "execution_count": null,
      "outputs": [
        {
          "output_type": "stream",
          "name": "stdout",
          "text": [
            "[ 0  1  4  9 16 25]\n"
          ]
        }
      ]
    },
    {
      "cell_type": "markdown",
      "source": [
        "#### Operaciones con Matrices\n"
      ],
      "metadata": {
        "id": "_3kPZTNFbtZz"
      }
    },
    {
      "cell_type": "code",
      "source": [
        "arr = np.arange(0,20)\n",
        "print(\"Array Original : \",arr,\"\\n\")\n",
        "\n",
        "matriz_1 = arr.reshape(4, 5)\n",
        "print(\"Matriz 1 :\")\n",
        "matriz_1\n"
      ],
      "metadata": {
        "colab": {
          "base_uri": "https://localhost:8080/"
        },
        "id": "R22N1Qz5ciYR",
        "outputId": "c2470aed-56c9-424b-89ef-32b919e8479a"
      },
      "execution_count": null,
      "outputs": [
        {
          "output_type": "stream",
          "name": "stdout",
          "text": [
            "Array Original :  [ 0  1  2  3  4  5  6  7  8  9 10 11 12 13 14 15 16 17 18 19] \n",
            "\n",
            "Matriz 1 :\n"
          ]
        },
        {
          "output_type": "execute_result",
          "data": {
            "text/plain": [
              "array([[ 0,  1,  2,  3,  4],\n",
              "       [ 5,  6,  7,  8,  9],\n",
              "       [10, 11, 12, 13, 14],\n",
              "       [15, 16, 17, 18, 19]])"
            ]
          },
          "metadata": {},
          "execution_count": 87
        }
      ]
    },
    {
      "cell_type": "code",
      "source": [
        "arr = np.arange(21,41)\n",
        "print(\"Array Original : \",arr,\"\\n\")\n",
        "\n",
        "matriz_2 = arr.reshape(4, 5)\n",
        "print(\"Matriz 2 :\")\n",
        "matriz_2\n",
        "\n",
        "\n"
      ],
      "metadata": {
        "colab": {
          "base_uri": "https://localhost:8080/"
        },
        "id": "J2CCWHWxe41n",
        "outputId": "dbd2d951-da8b-4488-db83-82f119497835"
      },
      "execution_count": null,
      "outputs": [
        {
          "output_type": "stream",
          "name": "stdout",
          "text": [
            "Array Original :  [21 22 23 24 25 26 27 28 29 30 31 32 33 34 35 36 37 38 39 40] \n",
            "\n",
            "Matriz 2 :\n"
          ]
        },
        {
          "output_type": "execute_result",
          "data": {
            "text/plain": [
              "array([[21, 22, 23, 24, 25],\n",
              "       [26, 27, 28, 29, 30],\n",
              "       [31, 32, 33, 34, 35],\n",
              "       [36, 37, 38, 39, 40]])"
            ]
          },
          "metadata": {},
          "execution_count": 89
        }
      ]
    },
    {
      "cell_type": "code",
      "source": [
        "# Primera matriz\n",
        "\n",
        "print(\"Matriz 1:\")\n",
        "print(matriz_1, \"\\n\")\n",
        "\n",
        "# Segunda matriz\n",
        "print(\"Matriz 2:\")\n",
        "print(matriz_2, \"\\n\")\n",
        "\n",
        "\n",
        "# Suma de Matriz\n",
        "suma_matriz = matriz_1+matriz_2\n",
        "print(\"Suma de Matrices:\")\n",
        "print(suma_matriz)"
      ],
      "metadata": {
        "colab": {
          "base_uri": "https://localhost:8080/"
        },
        "id": "I7zHDwj7gG1a",
        "outputId": "363a05b8-875b-4219-c402-d51cf2053337"
      },
      "execution_count": null,
      "outputs": [
        {
          "output_type": "stream",
          "name": "stdout",
          "text": [
            "Matriz 1:\n",
            "[[ 0  1  2  3  4]\n",
            " [ 5  6  7  8  9]\n",
            " [10 11 12 13 14]\n",
            " [15 16 17 18 19]] \n",
            "\n",
            "Matriz 2:\n",
            "[[21 22 23 24 25]\n",
            " [26 27 28 29 30]\n",
            " [31 32 33 34 35]\n",
            " [36 37 38 39 40]] \n",
            "\n",
            "Suma de Matrices:\n",
            "[[21 23 25 27 29]\n",
            " [31 33 35 37 39]\n",
            " [41 43 45 47 49]\n",
            " [51 53 55 57 59]]\n"
          ]
        }
      ]
    },
    {
      "cell_type": "code",
      "source": [
        "# Resta de Matriz\n",
        "resta_matriz = matriz_2-matriz_1\n",
        "\n",
        "print(\"Resta de Matrices:\")\n",
        "print(resta_matriz)\n",
        "\n"
      ],
      "metadata": {
        "colab": {
          "base_uri": "https://localhost:8080/"
        },
        "id": "a7HvocZ7fEMo",
        "outputId": "1ad34d2f-d63d-4724-d7ed-f81cf092fbb2"
      },
      "execution_count": null,
      "outputs": [
        {
          "output_type": "stream",
          "name": "stdout",
          "text": [
            "Resta de Matrices:\n",
            "[[21 21 21 21 21]\n",
            " [21 21 21 21 21]\n",
            " [21 21 21 21 21]\n",
            " [21 21 21 21 21]]\n"
          ]
        }
      ]
    },
    {
      "cell_type": "markdown",
      "source": [
        "#### Transposicion de Matrices"
      ],
      "metadata": {
        "id": "VJZMNgO5keP5"
      }
    },
    {
      "cell_type": "code",
      "source": [
        "#Matriz Transpuesta pasa de 4x5 a 5x4:\n",
        "matriz_t1 = matriz_1.T\n",
        "print(\"Matriz Transpuesta 1:\")\n",
        "print(matriz_t1,\"\\n\")\n",
        "\n",
        "\n",
        "matriz_t2 = matriz_2.T\n",
        "print(\"Matriz Transpuesta 2:\")\n",
        "print(matriz_t2)"
      ],
      "metadata": {
        "colab": {
          "base_uri": "https://localhost:8080/"
        },
        "id": "KzNcpl_njXX-",
        "outputId": "dd90c2d1-adf1-4038-8d08-2d924749031f"
      },
      "execution_count": null,
      "outputs": [
        {
          "output_type": "stream",
          "name": "stdout",
          "text": [
            "Matriz Transpuesta 1:\n",
            "[[ 0  5 10 15]\n",
            " [ 1  6 11 16]\n",
            " [ 2  7 12 17]\n",
            " [ 3  8 13 18]\n",
            " [ 4  9 14 19]] \n",
            "\n",
            "Matriz Transpuesta 2:\n",
            "[[21 26 31 36]\n",
            " [22 27 32 37]\n",
            " [23 28 33 38]\n",
            " [24 29 34 39]\n",
            " [25 30 35 40]]\n"
          ]
        }
      ]
    },
    {
      "cell_type": "code",
      "source": [
        "#Multiplicacion:\n",
        "matriz_mult = matriz_t1*matriz_t2\n",
        "print(\"Multiplicacion de Matrices:\")\n",
        "print(matriz_mult)"
      ],
      "metadata": {
        "colab": {
          "base_uri": "https://localhost:8080/"
        },
        "id": "Ao6MTO6IjpPc",
        "outputId": "36080362-5220-41e6-e448-1c479a78cc09"
      },
      "execution_count": null,
      "outputs": [
        {
          "output_type": "stream",
          "name": "stdout",
          "text": [
            "Multiplicacion de Matrices:\n",
            "[[  0 130 310 540]\n",
            " [ 22 162 352 592]\n",
            " [ 46 196 396 646]\n",
            " [ 72 232 442 702]\n",
            " [100 270 490 760]]\n"
          ]
        }
      ]
    },
    {
      "cell_type": "markdown",
      "source": [
        "## EJERCICIOS:"
      ],
      "metadata": {
        "id": "o98VeZgv16XL"
      }
    },
    {
      "cell_type": "markdown",
      "source": [
        "### Ejercicio 1: Creación y Manipulación de Arreglos\n",
        "\n",
        "1. Crea un arreglo unidimensional que contenga los números del 1 al 10.\n",
        "2. Crea un arreglo bidimensional de forma \\(3 \\times 3\\) con números del 1 al 9.\n",
        "3. Utiliza el método `reshape` para convertir el arreglo unidimensional del punto 1 en un arreglo bidimensional de forma \\(2 \\times 5\\).\n"
      ],
      "metadata": {
        "id": "bCSWvl5iuXrC"
      }
    },
    {
      "cell_type": "code",
      "source": [
        "lista=[1,2,3,4,5,6,7,8,9,10]\n",
        "\n",
        "print(lista)"
      ],
      "metadata": {
        "id": "LFqO7-Tfuq1u",
        "colab": {
          "base_uri": "https://localhost:8080/"
        },
        "outputId": "ce8cae50-1326-4f7a-e8cf-cfb31f4c062f"
      },
      "execution_count": null,
      "outputs": [
        {
          "output_type": "stream",
          "name": "stdout",
          "text": [
            "[1, 2, 3, 4, 5, 6, 7, 8, 9, 10]\n"
          ]
        }
      ]
    },
    {
      "cell_type": "code",
      "source": [
        "array=np.array([[1,2,3],[4,5,6],[7,8,9]])\n",
        "print(array)"
      ],
      "metadata": {
        "colab": {
          "base_uri": "https://localhost:8080/"
        },
        "id": "j0rVos2162xq",
        "outputId": "f5cc5f6e-ab86-4b62-bf2a-04d7bacb9d3f"
      },
      "execution_count": null,
      "outputs": [
        {
          "output_type": "stream",
          "name": "stdout",
          "text": [
            "[[1 2 3]\n",
            " [4 5 6]\n",
            " [7 8 9]]\n"
          ]
        }
      ]
    },
    {
      "cell_type": "code",
      "source": [
        "a=np.array([1,2,3,4,5,6,7,8,9,10])\n",
        "reshaped=a.reshape(2,5)\n",
        "reshaped\n",
        "\n"
      ],
      "metadata": {
        "colab": {
          "base_uri": "https://localhost:8080/"
        },
        "id": "hVmlmlrU6nAr",
        "outputId": "bc3b5646-47d7-47d7-db31-36421d9beb38"
      },
      "execution_count": null,
      "outputs": [
        {
          "output_type": "execute_result",
          "data": {
            "text/plain": [
              "array([[ 1,  2,  3,  4,  5],\n",
              "       [ 6,  7,  8,  9, 10]])"
            ]
          },
          "metadata": {},
          "execution_count": 10
        }
      ]
    },
    {
      "cell_type": "markdown",
      "source": [
        "### Ejercicio 2: Indexación y Slicing\n",
        "\n",
        "Dado el arreglo bidimensional:\n",
        "\n",
        "\n",
        "\\begin{pmatrix}\n",
        "1 & 2 & 3 \\\\\n",
        "4 & 5 & 6 \\\\\n",
        "7 & 8 & 9\n",
        "\\end{pmatrix}\n",
        "\n",
        "\n",
        "Realiza las siguientes operaciones:\n",
        "\n",
        "1. Extrae el número 5 de la matriz.\n",
        "2. Obtén la primera fila.\n",
        "3. Obtén la última columna.\n",
        "4. Utiliza slicing para obtener la submatriz\n",
        "\\begin{pmatrix} 5 & 6 \\\\ 8 & 9 \\end{pmatrix}\n"
      ],
      "metadata": {
        "id": "7aaDIGS1udMp"
      }
    },
    {
      "cell_type": "code",
      "source": [
        "b=np.array([[1,2,3],[4,5,6],[7,8,9]])\n",
        "flattened=b.flatten()\n",
        "flattened\n",
        "ultima_columna = [fila[-1] for fila in b]\n",
        "\n",
        "print(flattened[4])\n",
        "print(b[0])\n",
        "print(ultima_columna)\n",
        "print(b[1:, 1:])"
      ],
      "metadata": {
        "id": "4jZ4XvYlutBJ",
        "colab": {
          "base_uri": "https://localhost:8080/"
        },
        "outputId": "4e0a2eac-20db-4b80-bdb6-3edf8d25927a"
      },
      "execution_count": null,
      "outputs": [
        {
          "output_type": "stream",
          "name": "stdout",
          "text": [
            "5\n",
            "[1 2 3]\n",
            "[3, 6, 9]\n",
            "[[5 6]\n",
            " [8 9]]\n"
          ]
        }
      ]
    },
    {
      "cell_type": "markdown",
      "source": [
        "\n",
        "### Ejercicio 3: Operaciones Matemáticas\n",
        "\n",
        "1. Crea dos arreglos unidimensionales \\( A \\) y \\( B \\) de la misma longitud, llenos de números aleatorios.\n",
        "2. Calcula la suma \\( A + B \\).\n",
        "3. Calcula el producto punto \\( A \\cdot B \\).\n",
        "4. Encuentra el valor máximo en el arreglo \\( A + B \\) y su correspondiente índice.\n",
        "\n",
        "Estos ejercicios cubren las operaciones básicas de NumPy y deberían proporcionar una buena práctica para los estudiantes que están empezando."
      ],
      "metadata": {
        "id": "jbf0T-thufKm"
      }
    },
    {
      "cell_type": "code",
      "source": [
        "A = [0,1,2,3,4,5,6,7,8,9,10,12]\n",
        "B = [50,51,52,53,54,55,56,57,58,59,60,61]\n",
        "C= A+B\n",
        "maximo=max(C)\n",
        "print(A+B)\n",
        "producto_punto=np.dot(A,B)\n",
        "print(producto_punto)\n",
        "print(maximo)"
      ],
      "metadata": {
        "id": "7Q2mBKCeuvTk",
        "colab": {
          "base_uri": "https://localhost:8080/"
        },
        "outputId": "060667e5-33a7-412b-d978-fcfe307b821c"
      },
      "execution_count": null,
      "outputs": [
        {
          "output_type": "stream",
          "name": "stdout",
          "text": [
            "[0, 1, 2, 3, 4, 5, 6, 7, 8, 9, 10, 12, 50, 51, 52, 53, 54, 55, 56, 57, 58, 59, 60, 61]\n",
            "3867\n",
            "61\n"
          ]
        }
      ]
    }
  ]
}